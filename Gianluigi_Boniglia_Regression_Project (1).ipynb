{
 "cells": [
  {
   "cell_type": "code",
   "execution_count": 1,
   "id": "a9ed53b9-a63c-41b0-9093-803b46fdb4a1",
   "metadata": {
    "id": "a9ed53b9-a63c-41b0-9093-803b46fdb4a1"
   },
   "outputs": [],
   "source": [
    "from IPython.display import Image"
   ]
  },
  {
   "cell_type": "code",
   "execution_count": 2,
   "id": "X6-ajhfJ7583",
   "metadata": {
    "id": "X6-ajhfJ7583"
   },
   "outputs": [],
   "source": [
    "import pandas as pd"
   ]
  },
  {
   "cell_type": "code",
   "execution_count": 3,
   "id": "OVQUOLEP8Adx",
   "metadata": {
    "id": "OVQUOLEP8Adx"
   },
   "outputs": [],
   "source": [
    "df_shots = pd.read_csv('/Users/gianluigiboniglia/Downloads/df_shots.csv').drop('Unnamed: 0', axis=1)"
   ]
  },
  {
   "cell_type": "markdown",
   "id": "fc3ba300-ca69-448d-91d3-79e7ca331110",
   "metadata": {
    "id": "fc3ba300-ca69-448d-91d3-79e7ca331110"
   },
   "source": [
    "# Linear Regression"
   ]
  },
  {
   "cell_type": "markdown",
   "id": "3a18c00a-d003-480a-80c4-7911f27b7f7f",
   "metadata": {
    "id": "3a18c00a-d003-480a-80c4-7911f27b7f7f"
   },
   "source": [
    "**It is a linear approach for modelling the relationship between a scalar response and one or more explanatory variables (also known as dependent and independent variables)**"
   ]
  },
  {
   "cell_type": "markdown",
   "id": "678fbfcb-9d6b-4922-b1e1-4ef567a06603",
   "metadata": {
    "id": "678fbfcb-9d6b-4922-b1e1-4ef567a06603"
   },
   "source": [
    "# $y = \\beta_0 + x\\beta_1 + \\epsilon$"
   ]
  },
  {
   "cell_type": "markdown",
   "id": "e2275702-43b4-45b0-ae6b-bcf1a1f86532",
   "metadata": {
    "id": "e2275702-43b4-45b0-ae6b-bcf1a1f86532"
   },
   "source": [
    "# Problem with categorical variables"
   ]
  },
  {
   "cell_type": "markdown",
   "id": "a9b7b985-1841-46a8-abe6-a5d368d9b16c",
   "metadata": {
    "id": "a9b7b985-1841-46a8-abe6-a5d368d9b16c"
   },
   "source": [
    "# Logistic regression"
   ]
  },
  {
   "cell_type": "markdown",
   "id": "8abcb62c-3a33-4110-aab8-230721dcc051",
   "metadata": {
    "id": "8abcb62c-3a33-4110-aab8-230721dcc051"
   },
   "source": [
    "**It is used to model the probability of a certain class or event existing such as pass/fail, win/lose, alive/dead or healthy/sick. Each class would be assigned a probability between 0 and 1, with a sum of one.**"
   ]
  },
  {
   "cell_type": "markdown",
   "id": "d4b73a9f-a20c-4525-aca6-35ca55dc7098",
   "metadata": {
    "id": "d4b73a9f-a20c-4525-aca6-35ca55dc7098"
   },
   "source": [
    "# $\\frac{y}{1-y} = b^{\\beta_0 + x\\beta_1 + \\epsilon}$"
   ]
  },
  {
   "cell_type": "markdown",
   "id": "2f1fddcd-39c7-415b-96ba-4f1d332899f4",
   "metadata": {
    "id": "2f1fddcd-39c7-415b-96ba-4f1d332899f4"
   },
   "source": [
    "# $y = \\frac{1}{1 + b^{-(\\beta_0 + x\\beta_1 + \\epsilon)}} = S_b(\\beta_0 + x\\beta_1 + \\epsilon)$"
   ]
  },
  {
   "cell_type": "code",
   "execution_count": 4,
   "id": "c8e2d165-d053-435f-9eb7-401dd907a83e",
   "metadata": {
    "colab": {
     "base_uri": "https://localhost:8080/",
     "height": 521
    },
    "id": "c8e2d165-d053-435f-9eb7-401dd907a83e",
    "outputId": "90a35764-4075-4141-c37f-f42f53fcfb9c"
   },
   "outputs": [
    {
     "data": {
      "image/png": "[encoded data removed]",
      "text/plain": [
       "<Figure size 576x432 with 1 Axes>"
      ]
     },
     "metadata": {
      "needs_background": "light"
     },
     "output_type": "display_data"
    }
   ],
   "source": [
    "import numpy as np\n",
    "import matplotlib.pyplot as plt\n",
    "\n",
    "def sigmoid(x, b):\n",
    "    return 1/(1+b**(-x))\n",
    "\n",
    "x_array = np.linspace(-10, 10)\n",
    "\n",
    "plt.figure(figsize=(8,6))\n",
    "plt.plot(x_array, sigmoid(x_array, 2), label = '2')\n",
    "plt.plot(x_array, sigmoid(x_array, np.e), label = 'e')\n",
    "plt.plot(x_array, sigmoid(x_array, 10), label = '10')\n",
    "plt.legend()\n",
    "plt.show()"
   ]
  },
  {
   "cell_type": "code",
   "execution_count": 5,
   "id": "c32817e1-d50e-4552-b4b8-d918f16631c4",
   "metadata": {
    "id": "c32817e1-d50e-4552-b4b8-d918f16631c4"
   },
   "outputs": [],
   "source": [
    "import pandas as pd"
   ]
  },
  {
   "cell_type": "code",
   "execution_count": 6,
   "id": "32cc4283-db2c-4804-a499-265525187060",
   "metadata": {
    "colab": {
     "base_uri": "https://localhost:8080/",
     "height": 304
    },
    "id": "32cc4283-db2c-4804-a499-265525187060",
    "outputId": "affd3b21-07a7-49fb-a882-5d7f3f6432e0"
   },
   "outputs": [],
   "source": [
    "df_shots = pd.read_csv('/Users/gianluigiboniglia/Downloads/df_shots.csv').drop('Unnamed: 0', axis=1)"
   ]
  },
  {
   "cell_type": "code",
   "execution_count": 7,
   "id": "85ea5f37-2eb6-436f-8ad2-250f2ebf09a5",
   "metadata": {
    "colab": {
     "base_uri": "https://localhost:8080/",
     "height": 486
    },
    "id": "85ea5f37-2eb6-436f-8ad2-250f2ebf09a5",
    "outputId": "992210f9-44e9-4d85-d8ba-a2a581d8a0d1"
   },
   "outputs": [
    {
     "data": {
      "text/html": [
       "<div>\n",
       "<style scoped>\n",
       "    .dataframe tbody tr th:only-of-type {\n",
       "        vertical-align: middle;\n",
       "    }\n",
       "\n",
       "    .dataframe tbody tr th {\n",
       "        vertical-align: top;\n",
       "    }\n",
       "\n",
       "    .dataframe thead th {\n",
       "        text-align: right;\n",
       "    }\n",
       "</style>\n",
       "<table border=\"1\" class=\"dataframe\">\n",
       "  <thead>\n",
       "    <tr style=\"text-align: right;\">\n",
       "      <th></th>\n",
       "      <th>start_frame</th>\n",
       "      <th>end_frame</th>\n",
       "      <th>event_type</th>\n",
       "      <th>origin_pos_x</th>\n",
       "      <th>origin_pos_y</th>\n",
       "      <th>destination_pos_x</th>\n",
       "      <th>destination_pos_y</th>\n",
       "      <th>is_header</th>\n",
       "      <th>is_goal</th>\n",
       "      <th>freeze_frame</th>\n",
       "      <th>from_set_pieces</th>\n",
       "      <th>from_free_kick</th>\n",
       "      <th>from_penalty</th>\n",
       "    </tr>\n",
       "  </thead>\n",
       "  <tbody>\n",
       "    <tr>\n",
       "      <th>0</th>\n",
       "      <td>3230.175</td>\n",
       "      <td>3249.033025</td>\n",
       "      <td>Shot</td>\n",
       "      <td>0.899167</td>\n",
       "      <td>0.6275</td>\n",
       "      <td>1.000000</td>\n",
       "      <td>0.5400</td>\n",
       "      <td>False</td>\n",
       "      <td>False</td>\n",
       "      <td>[{'teammate': True, 'actor': False, 'keeper': ...</td>\n",
       "      <td>False</td>\n",
       "      <td>False</td>\n",
       "      <td>False</td>\n",
       "    </tr>\n",
       "    <tr>\n",
       "      <th>1</th>\n",
       "      <td>14167.350</td>\n",
       "      <td>14185.561050</td>\n",
       "      <td>Shot</td>\n",
       "      <td>0.870833</td>\n",
       "      <td>0.3775</td>\n",
       "      <td>0.977500</td>\n",
       "      <td>0.4850</td>\n",
       "      <td>False</td>\n",
       "      <td>False</td>\n",
       "      <td>[{'teammate': True, 'actor': False, 'keeper': ...</td>\n",
       "      <td>False</td>\n",
       "      <td>False</td>\n",
       "      <td>False</td>\n",
       "    </tr>\n",
       "    <tr>\n",
       "      <th>2</th>\n",
       "      <td>15756.100</td>\n",
       "      <td>15780.660425</td>\n",
       "      <td>Shot</td>\n",
       "      <td>0.849167</td>\n",
       "      <td>0.3875</td>\n",
       "      <td>1.000000</td>\n",
       "      <td>0.4475</td>\n",
       "      <td>False</td>\n",
       "      <td>False</td>\n",
       "      <td>[{'teammate': True, 'actor': False, 'keeper': ...</td>\n",
       "      <td>True</td>\n",
       "      <td>False</td>\n",
       "      <td>False</td>\n",
       "    </tr>\n",
       "    <tr>\n",
       "      <th>3</th>\n",
       "      <td>20942.500</td>\n",
       "      <td>20985.413775</td>\n",
       "      <td>Shot</td>\n",
       "      <td>0.666667</td>\n",
       "      <td>0.1825</td>\n",
       "      <td>0.964167</td>\n",
       "      <td>0.4975</td>\n",
       "      <td>False</td>\n",
       "      <td>False</td>\n",
       "      <td>[{'teammate': True, 'actor': False, 'keeper': ...</td>\n",
       "      <td>False</td>\n",
       "      <td>True</td>\n",
       "      <td>False</td>\n",
       "    </tr>\n",
       "    <tr>\n",
       "      <th>4</th>\n",
       "      <td>38033.125</td>\n",
       "      <td>38040.548225</td>\n",
       "      <td>Shot</td>\n",
       "      <td>0.894167</td>\n",
       "      <td>0.3800</td>\n",
       "      <td>0.934167</td>\n",
       "      <td>0.4075</td>\n",
       "      <td>False</td>\n",
       "      <td>False</td>\n",
       "      <td>[{'teammate': True, 'actor': False, 'keeper': ...</td>\n",
       "      <td>False</td>\n",
       "      <td>False</td>\n",
       "      <td>False</td>\n",
       "    </tr>\n",
       "  </tbody>\n",
       "</table>\n",
       "</div>"
      ],
      "text/plain": [
       "   start_frame     end_frame event_type  origin_pos_x  origin_pos_y  \\\n",
       "0     3230.175   3249.033025       Shot      0.899167        0.6275   \n",
       "1    14167.350  14185.561050       Shot      0.870833        0.3775   \n",
       "2    15756.100  15780.660425       Shot      0.849167        0.3875   \n",
       "3    20942.500  20985.413775       Shot      0.666667        0.1825   \n",
       "4    38033.125  38040.548225       Shot      0.894167        0.3800   \n",
       "\n",
       "   destination_pos_x  destination_pos_y  is_header  is_goal  \\\n",
       "0           1.000000             0.5400      False    False   \n",
       "1           0.977500             0.4850      False    False   \n",
       "2           1.000000             0.4475      False    False   \n",
       "3           0.964167             0.4975      False    False   \n",
       "4           0.934167             0.4075      False    False   \n",
       "\n",
       "                                        freeze_frame  from_set_pieces  \\\n",
       "0  [{'teammate': True, 'actor': False, 'keeper': ...            False   \n",
       "1  [{'teammate': True, 'actor': False, 'keeper': ...            False   \n",
       "2  [{'teammate': True, 'actor': False, 'keeper': ...             True   \n",
       "3  [{'teammate': True, 'actor': False, 'keeper': ...            False   \n",
       "4  [{'teammate': True, 'actor': False, 'keeper': ...            False   \n",
       "\n",
       "   from_free_kick  from_penalty  \n",
       "0           False         False  \n",
       "1           False         False  \n",
       "2           False         False  \n",
       "3            True         False  \n",
       "4           False         False  "
      ]
     },
     "execution_count": 7,
     "metadata": {},
     "output_type": "execute_result"
    }
   ],
   "source": [
    "df_shots.head()"
   ]
  },
  {
   "cell_type": "code",
   "execution_count": 8,
   "id": "ZK8-48b6EBhj",
   "metadata": {
    "colab": {
     "base_uri": "https://localhost:8080/",
     "height": 472
    },
    "id": "ZK8-48b6EBhj",
    "outputId": "04218e4d-b3cd-4708-88e9-c2d7d5e2f9ad"
   },
   "outputs": [
    {
     "data": {
      "image/png": "[encoded data removed]",
      "text/plain": [
       "<Figure size 432x288 with 2 Axes>"
      ]
     },
     "metadata": {
      "needs_background": "light"
     },
     "output_type": "display_data"
    }
   ],
   "source": [
    "# @title Distribution of Shot Origins\n",
    "\n",
    "import matplotlib.pyplot as plt\n",
    "\n",
    "plt.hist2d(df_shots['origin_pos_x'], df_shots['origin_pos_y'], bins=50)\n",
    "plt.xlabel('Origin X Position')\n",
    "plt.ylabel('Origin Y Position')\n",
    "plt.title('Distribution of Shot Origins')\n",
    "_ = plt.colorbar(label='Frequency')"
   ]
  },
  {
   "cell_type": "markdown",
   "id": "bad553df-6664-41f7-ba01-c25c2774fea2",
   "metadata": {
    "id": "bad553df-6664-41f7-ba01-c25c2774fea2"
   },
   "source": [
    "* **event_type**: only 'Shot' for this lab\n",
    "* **start_frame & end_frame**: start and end frame of the given action within the match video (25 frames per second, so you could compute the total time the action has taken)\n",
    "* **origin_pos_? & destination_pos_?**: origin and destination position for the x and y coordinates of the given action. Besides it is not explicit, these variables are still normalized!\n",
    "* **is_header**: is the shot a \"head-shot\"? (Boolean variable)\n",
    "* **freeze_frame**: information about each of the players in the on-ball team and the opponent one. YOU SHOULD READ THIS AS A DICTIONARY! We are going to see this later deeply.\n",
    "* **from_set_pieces**: is the shot originated from a set piece play (i.e. corners) (Boolean variable)\n",
    "* **from_free_kick**: is the shot originated from a free kick (Boolean variable)\n",
    "* **from_penalty**: is the shot originated from a penalty (Boolean variable)"
   ]
  },
  {
   "cell_type": "markdown",
   "id": "08e75000-9744-4ec4-84ca-6fa6badb0aec",
   "metadata": {
    "id": "08e75000-9744-4ec4-84ca-6fa6badb0aec"
   },
   "source": [
    "**Lets take a closer look to freeze_frame object**"
   ]
  },
  {
   "cell_type": "code",
   "execution_count": 9,
   "id": "b4974247-03bc-4e55-aad9-fee11df7bdc3",
   "metadata": {
    "colab": {
     "base_uri": "https://localhost:8080/",
     "height": 227
    },
    "id": "b4974247-03bc-4e55-aad9-fee11df7bdc3",
    "outputId": "d477c658-3be2-4b90-a002-3d8a110ace1a"
   },
   "outputs": [
    {
     "data": {
      "text/plain": [
       "\"[{'teammate': True, 'actor': False, 'keeper': False, 'location': [0.63738225, 0.3037944375]}, {'teammate': True, 'actor': False, 'keeper': False, 'location': [0.7728751666666667, 0.713117375]}, {'teammate': False, 'actor': False, 'keeper': False, 'location': [0.7747634166666667, 0.7248936625]}, {'teammate': True, 'actor': False, 'keeper': False, 'location': [0.7991360000000001, 0.563265875]}, {'teammate': False, 'actor': False, 'keeper': False, 'location': [0.8010477083333334, 0.5313675875]}, {'teammate': False, 'actor': False, 'keeper': False, 'location': [0.8506343333333334, 0.664471]}, {'teammate': False, 'actor': False, 'keeper': False, 'location': [0.8648189583333333, 0.7899905625]}, {'teammate': True, 'actor': False, 'keeper': False, 'location': [0.8743958333333333, 0.5598908375]}, {'teammate': False, 'actor': False, 'keeper': False, 'location': [0.8889644166666667, 0.521435125]}, {'teammate': True, 'actor': False, 'keeper': False, 'location': [0.9002543333333333, 0.3555984]}, {'teammate': False, 'actor': False, 'keeper': False, 'location': [0.90062125, 0.5814253375]}, {'teammate': True, 'actor': True, 'keeper': False, 'location': [0.90243825, 0.6264782]}, {'teammate': False, 'actor': False, 'keeper': False, 'location': [0.9188795, 0.452316875]}, {'teammate': False, 'actor': False, 'keeper': False, 'location': [0.9188887916666667, 0.6398198125000001]}, {'teammate': False, 'actor': False, 'keeper': True, 'location': [0.9707551666666667, 0.5502287875]}]\""
      ]
     },
     "execution_count": 9,
     "metadata": {},
     "output_type": "execute_result"
    }
   ],
   "source": [
    "df_shots.loc[0].freeze_frame"
   ]
  },
  {
   "cell_type": "markdown",
   "id": "37e9150d-c470-4c61-b754-dae7de300b90",
   "metadata": {
    "id": "37e9150d-c470-4c61-b754-dae7de300b90"
   },
   "source": [
    "**As always, we read it as a dictionary by using eval() function** (lets just see the first element)"
   ]
  },
  {
   "cell_type": "code",
   "execution_count": 10,
   "id": "b8953f4a-eec6-4b8c-b28e-9f8136284113",
   "metadata": {
    "colab": {
     "base_uri": "https://localhost:8080/"
    },
    "id": "b8953f4a-eec6-4b8c-b28e-9f8136284113",
    "outputId": "10404748-b7a1-4352-9297-76da1404797d"
   },
   "outputs": [
    {
     "data": {
      "text/plain": [
       "{'teammate': True,\n",
       " 'actor': False,\n",
       " 'keeper': False,\n",
       " 'location': [0.63738225, 0.3037944375]}"
      ]
     },
     "execution_count": 10,
     "metadata": {},
     "output_type": "execute_result"
    }
   ],
   "source": [
    "eval(df_shots.loc[0].freeze_frame)[0]"
   ]
  },
  {
   "cell_type": "markdown",
   "id": "1b3d7fa4-224f-487e-b07a-ab04e8c6e872",
   "metadata": {
    "id": "1b3d7fa4-224f-487e-b07a-ab04e8c6e872"
   },
   "source": [
    "* **teammate**: is this player from the team who took the shot? (Boolean variable)\n",
    "* **actor**: is this player taking the shot? (Boolean variable)\n",
    "* **keeper**: is this player the goalkeeper? (Boolean variable)\n",
    "* **location**: normalized location of the player (between [0,1]). Remember to use the pitch dimensions [105, 68] to unnormalize."
   ]
  },
  {
   "cell_type": "markdown",
   "id": "794a632c-e151-4f15-91d3-44f021d78839",
   "metadata": {
    "id": "794a632c-e151-4f15-91d3-44f021d78839"
   },
   "source": [
    "**IMPORTANT: it is possible that the number of players in the dictionary is less than 22 (eleven per team) due to the StatsBomb data architecture. Freeze frame data only saves information about the players available in the video image.** A quick example of StatsBomb data:"
   ]
  },
  {
   "cell_type": "markdown",
   "id": "5e490970-1b6b-4e9f-b4be-bcd477136e7e",
   "metadata": {
    "id": "5e490970-1b6b-4e9f-b4be-bcd477136e7e"
   },
   "source": [
    "Lets do a quick visualization to get how to explore this dictionary. We first define our functions to drar the football pitch:"
   ]
  },
  {
   "cell_type": "code",
   "execution_count": 11,
   "id": "c9e1877e-0f64-4493-8ca9-dc8c28cd4b9e",
   "metadata": {
    "id": "c9e1877e-0f64-4493-8ca9-dc8c28cd4b9e"
   },
   "outputs": [],
   "source": [
    "def _point_to_meters_inverse(p, w=105, h=68):\n",
    "    return np.array([p[0] * h, p[1] * w])\n",
    "\n",
    "def _point_to_meters(p, w=105, h=68):\n",
    "    return np.array([p[0] * w, p[1] * h])\n",
    "\n",
    "def _draw_field(width=68, height=105, fig_size=8, lines_color=\"#bcbcbc\", background_color=\"white\"):\n",
    "    ratio = width / float(height)\n",
    "    f, ax = plt.subplots(1, 1, figsize=(fig_size * ratio, fig_size), dpi=100)\n",
    "\n",
    "    if background_color:\n",
    "        ax.add_patch(patches.Rectangle((0, 0), width, height, color=background_color))\n",
    "\n",
    "    line_pts = [\n",
    "        [_point_to_meters([0, 0]), _point_to_meters([0, 1])],\n",
    "        [_point_to_meters([1, 0]), _point_to_meters([1, 1])],\n",
    "        [_point_to_meters([0, 1]), _point_to_meters([1, 1])],\n",
    "        [_point_to_meters([0, 0]), _point_to_meters([1, 0])],\n",
    "    ]\n",
    "\n",
    "    for line_pt in line_pts:\n",
    "        ax.plot([line_pt[0][0], line_pt[1][0]], [line_pt[0][1], line_pt[1][1]], '-', alpha=0.8,\n",
    "                lw=1.5, zorder=2, color=lines_color)\n",
    "\n",
    "    line_pts = [\n",
    "        [_point_to_meters([0.5, 0]), _point_to_meters([0.5, 1])],\n",
    "\n",
    "        [[0, 24.85], [0, 2.85]],\n",
    "        [[0, 13.85], [16.5, 13.85]],\n",
    "        [[0, 54.15], [16.5, 54.15]],\n",
    "        [[16.5, 13.85], [16.5, 54.15]],\n",
    "\n",
    "        [[0, 24.85], [5.5, 24.85]],\n",
    "        [[0, 43.15], [5.5, 43.15]],\n",
    "        [[5.5, 24.85], [5.5, 43.15]],\n",
    "\n",
    "        [[105, 24.85], [105, 2.85]],\n",
    "        [[105, 13.85], [88.5, 13.85]],\n",
    "        [[105, 54.15], [88.5, 54.15]],\n",
    "        [[88.5, 13.85], [88.5, 54.15]],\n",
    "\n",
    "        [[105, 24.85], [99.5, 24.85]],\n",
    "        [[105, 43.15], [99.5, 43.15]],\n",
    "        [[99.5, 24.85], [99.5, 43.14]]\n",
    "    ]\n",
    "\n",
    "    for line_pt in line_pts:\n",
    "        ax.plot([line_pt[0][0], line_pt[1][0]], [line_pt[0][1], line_pt[1][1]], '-',\n",
    "                alpha=0.8, lw=1.5, zorder=2, color=lines_color)\n",
    "\n",
    "    # Circles\n",
    "    ax.add_patch(patches.Wedge((94.0, 34.0), 9, 128, 232, fill=False, edgecolor=lines_color,\n",
    "                               facecolor=lines_color, zorder=4, width=0.02))\n",
    "\n",
    "    ax.add_patch(patches.Wedge((11.0, 34.0), 9, 308, 52, fill=False, edgecolor=lines_color,\n",
    "                               facecolor=lines_color, zorder=4, width=0.02))\n",
    "\n",
    "    ax.add_patch(patches.Wedge((52.5, 34), 9.5, 0, 360, fill=False, edgecolor=lines_color,\n",
    "                               facecolor=lines_color, zorder=4, width=0.02))\n",
    "\n",
    "    plt.axis('off')\n",
    "\n",
    "    return f, ax"
   ]
  },
  {
   "cell_type": "code",
   "execution_count": 12,
   "id": "84ec1a35-d2fd-4dd2-afec-205bb94004a1",
   "metadata": {
    "colab": {
     "base_uri": "https://localhost:8080/",
     "height": 453
    },
    "id": "84ec1a35-d2fd-4dd2-afec-205bb94004a1",
    "outputId": "5ab46816-eda3-462a-f2f0-06902b7f7842"
   },
   "outputs": [
    {
     "data": {
      "image/png": "[encoded data removed]",
      "text/plain": [
       "<Figure size 1235.29x800 with 1 Axes>"
      ]
     },
     "metadata": {
      "needs_background": "light"
     },
     "output_type": "display_data"
    }
   ],
   "source": [
    "import matplotlib.pyplot as plt #we use this library to plot\n",
    "import matplotlib.patches as patches #some more stuff to plot\n",
    "\n",
    "ww=105 #here we define the \"real\" size of the football pitch in meters, hh=height and ww=width\n",
    "hh=68\n",
    "\n",
    "pitch_dim = np.array([ww,hh]) #we define a pitch dimension vector in case we want to unnormalize some positions\n",
    "\n",
    "fig, ax = _draw_field(fig_size=8, width=ww, height=hh, lines_color='black') #football pitch figure and axis initialization\n",
    "\n",
    "shot_to_plot = df_shots.loc[0]\n",
    "\n",
    "for player in eval(shot_to_plot.freeze_frame): #always use eval()\n",
    "    color = 'blue' if player['teammate'] == True else 'red' #we define teammate's color as blue, opponent color red\n",
    "    color = 'yellow' if player['actor'] == True else color #we define actor's color as yellow\n",
    "\n",
    "    ax.scatter(player['location'][0]*ww, player['location'][1]*hh, color=color, s=50, zorder=100)\n",
    "\n",
    "ax.plot([shot_to_plot.origin_pos_x*ww, shot_to_plot.destination_pos_x*ww], [shot_to_plot.origin_pos_y*hh, shot_to_plot.destination_pos_y*hh],\n",
    "        color='green', lw=1)\n",
    "plt.show()"
   ]
  },
  {
   "cell_type": "markdown",
   "id": "ae4d6b20-aa02-4423-afe7-1f9a1c55ad0f",
   "metadata": {
    "id": "ae4d6b20-aa02-4423-afe7-1f9a1c55ad0f"
   },
   "source": [
    "Notice there are just 6 players from the team who's taking the shot!"
   ]
  },
  {
   "cell_type": "markdown",
   "id": "c388c598-87b0-4eed-b766-53d44f7656eb",
   "metadata": {
    "id": "c388c598-87b0-4eed-b766-53d44f7656eb"
   },
   "source": [
    "# Logistic Regression with Sci-kit learn"
   ]
  },
  {
   "cell_type": "markdown",
   "id": "f9ad7a16-e066-4beb-9716-f80930b37a39",
   "metadata": {
    "id": "f9ad7a16-e066-4beb-9716-f80930b37a39"
   },
   "source": [
    "**We are going to use a simple logistic regression (NO PENALTY) to build an expected goal (xG) model.**\n",
    "\n",
    "**Expected goals (xG) is a predictive model used to assess every goal-scoring chance, and the likelihood of scoring. A xG model computes for each chance the probability to score based on what we know about it (event-based variables)**."
   ]
  },
  {
   "cell_type": "markdown",
   "id": "7be5a162-29be-4648-989d-9dcb84af8910",
   "metadata": {
    "id": "7be5a162-29be-4648-989d-9dcb84af8910"
   },
   "source": [
    "**I'm going to build a quick baseline logistic regression model by only using the distance to the opponent goal from where each shot is taken.**"
   ]
  },
  {
   "cell_type": "markdown",
   "id": "d980cd8f-8e52-4ff9-b1ad-5a8735e61598",
   "metadata": {
    "id": "d980cd8f-8e52-4ff9-b1ad-5a8735e61598"
   },
   "source": [
    "First, lets compute the distance to opponent goal and add the variable to our dataframe"
   ]
  },
  {
   "cell_type": "code",
   "execution_count": 56,
   "id": "d388f16d-1b09-4c96-86f0-df9f52f0e9cf",
   "metadata": {
    "id": "d388f16d-1b09-4c96-86f0-df9f52f0e9cf"
   },
   "outputs": [],
   "source": [
    "def distance_to_goal(shot_location):\n",
    "    opp_goal_pos = np.array([1,0.5]) * pitch_dim #this is the opponent goal location\n",
    "\n",
    "    return np.linalg.norm(opp_goal_pos - shot_location)"
   ]
  },
  {
   "cell_type": "code",
   "execution_count": 57,
   "id": "efa18905-8569-4d1a-9680-22ce9819aa81",
   "metadata": {
    "id": "efa18905-8569-4d1a-9680-22ce9819aa81"
   },
   "outputs": [],
   "source": [
    "df_shots['distance_to_goal'] = df_shots.apply(lambda row: distance_to_goal(np.array([row.origin_pos_x, row.origin_pos_y])*pitch_dim), axis=1)"
   ]
  },
  {
   "cell_type": "markdown",
   "id": "710bdba4-1de0-4a78-a354-2d7b0ed8cb38",
   "metadata": {
    "id": "710bdba4-1de0-4a78-a354-2d7b0ed8cb38"
   },
   "source": [
    "Lets do some exploration through the histogram:"
   ]
  },
  {
   "cell_type": "code",
   "execution_count": 58,
   "id": "4d3fb369-f8e3-4055-b81d-669e71e3141d",
   "metadata": {
    "colab": {
     "base_uri": "https://localhost:8080/",
     "height": 430
    },
    "id": "4d3fb369-f8e3-4055-b81d-669e71e3141d",
    "outputId": "f3d3724f-27a1-4948-9cdb-d217f55bc4ee"
   },
   "outputs": [
    {
     "data": {
      "image/png": "[encoded data removed]",
      "text/plain": [
       "<Figure size 432x288 with 1 Axes>"
      ]
     },
     "metadata": {
      "needs_background": "light"
     },
     "output_type": "display_data"
    }
   ],
   "source": [
    "df_shots.distance_to_goal.hist(bins=20)\n",
    "plt.show()"
   ]
  },
  {
   "cell_type": "markdown",
   "id": "027baae7-f7e5-4d6d-b2dc-f01d2e5871be",
   "metadata": {
    "id": "027baae7-f7e5-4d6d-b2dc-f01d2e5871be"
   },
   "source": [
    "First, lets transform our boolean variables into [0,1]"
   ]
  },
  {
   "cell_type": "code",
   "execution_count": 16,
   "id": "45cafd1f-1c7d-40f3-8910-68bb16b2998c",
   "metadata": {
    "id": "45cafd1f-1c7d-40f3-8910-68bb16b2998c"
   },
   "outputs": [],
   "source": [
    "df_shots[\"is_goal\"] = df_shots[\"is_goal\"].astype(int)\n",
    "df_shots[\"is_header\"] = df_shots[\"is_header\"].astype(int)\n",
    "df_shots[\"from_set_pieces\"] = df_shots[\"from_set_pieces\"].astype(int)\n",
    "df_shots[\"from_free_kick\"] = df_shots[\"from_free_kick\"].astype(int)\n",
    "df_shots[\"from_penalty\"] = df_shots[\"from_penalty\"].astype(int)"
   ]
  },
  {
   "cell_type": "code",
   "execution_count": 17,
   "id": "bb59294a-d4e6-4a4f-a732-e8f5edd2bcb7",
   "metadata": {
    "id": "bb59294a-d4e6-4a4f-a732-e8f5edd2bcb7"
   },
   "outputs": [],
   "source": [
    "from sklearn.linear_model import LogisticRegression #we import the LogisticRegression class from the sklearn library\n",
    "from sklearn.model_selection import train_test_split #we are going to split into train and test set, preventing overfit\n",
    "\n",
    "X = df_shots.distance_to_goal\n",
    "y = df_shots.is_goal\n",
    "\n",
    "X_train, X_test, y_train, y_test = train_test_split(X, y, test_size=0.3, random_state=0) #split into train and test set\n",
    "\n",
    "clf = LogisticRegression(random_state=0).fit(np.array(X_train).reshape(-1, 1), y_train) #we train with the train set\n",
    "#array.reshape(-1,1) is necessary due to using only 1 variable\n",
    "y_pred = clf.predict_proba(np.array(X_test).reshape(-1,1)) #we predict with the test set"
   ]
  },
  {
   "cell_type": "code",
   "execution_count": 18,
   "id": "3eca84b2-ac7b-45e4-ac8b-f400cffac287",
   "metadata": {
    "colab": {
     "base_uri": "https://localhost:8080/"
    },
    "id": "3eca84b2-ac7b-45e4-ac8b-f400cffac287",
    "outputId": "8b06200f-8feb-4888-c3d5-db5f9b6ee7c8"
   },
   "outputs": [
    {
     "data": {
      "text/plain": [
       "array([[0.95247072, 0.04752928],\n",
       "       [0.98002363, 0.01997637],\n",
       "       [0.87750533, 0.12249467],\n",
       "       ...,\n",
       "       [0.95673322, 0.04326678],\n",
       "       [0.948419  , 0.051581  ],\n",
       "       [0.82687405, 0.17312595]])"
      ]
     },
     "execution_count": 18,
     "metadata": {},
     "output_type": "execute_result"
    }
   ],
   "source": [
    "y_pred"
   ]
  },
  {
   "cell_type": "markdown",
   "id": "e67ab2fc-3715-4979-9c3d-4e629c116fba",
   "metadata": {
    "id": "e67ab2fc-3715-4979-9c3d-4e629c116fba"
   },
   "source": [
    "**For each observation, we have a 2D array prediction, [probability class being 0, probability class being 1]**"
   ]
  },
  {
   "cell_type": "markdown",
   "id": "1dfd343b-d0ae-4dc3-af50-f512fb1b25bd",
   "metadata": {
    "id": "1dfd343b-d0ae-4dc3-af50-f512fb1b25bd"
   },
   "source": [
    "**To evaluate our model we are going to use two methods:**\n",
    "    \n",
    "* **Calibration curve**: used to evaluate how calibrated a classifier is i.e., how the probabilities of predicting each class label differ. The x-axis represents the average predicted probability in each bin. The y-axis is the ratio of positives (the proportion of positive predictions)\n",
    "\n",
    "* **ROC curve**: illustrates the diagnostic ability of a binary classifier system as its discrimination threshold is varied. We use area under ROC curve (AUC ROC) as a metric to evaluate our model. AUC = 0.5 for random classifiers, AUC=1 for perfect classifiers."
   ]
  },
  {
   "cell_type": "code",
   "execution_count": 19,
   "id": "7f1884c7-511e-46e8-9ca7-89f689091255",
   "metadata": {
    "colab": {
     "base_uri": "https://localhost:8080/",
     "height": 449
    },
    "id": "7f1884c7-511e-46e8-9ca7-89f689091255",
    "outputId": "bbe9c8f2-e3de-4589-9d36-3fcf31dac41f"
   },
   "outputs": [
    {
     "data": {
      "image/png": "[encoded data removed]",
      "text/plain": [
       "<Figure size 432x288 with 1 Axes>"
      ]
     },
     "metadata": {
      "needs_background": "light"
     },
     "output_type": "display_data"
    }
   ],
   "source": [
    "from sklearn.calibration import calibration_curve\n",
    "\n",
    "x_c, y_c = calibration_curve(y_test, y_pred[:,1], n_bins=15)\n",
    "plt.plot([0, 1], [0, 1], 'r--', label = 'Ideally Calibrated')\n",
    "plt.plot(y_c, x_c, marker = '.', color='b', label = 'Model v1')\n",
    "\n",
    "plt.plot([])\n",
    "\n",
    "leg = plt.legend(loc = 'upper left')\n",
    "plt.xlabel('Average Predicted Probability in each bin')\n",
    "plt.ylabel('Ratio of positives')\n",
    "plt.show()"
   ]
  },
  {
   "cell_type": "code",
   "execution_count": 20,
   "id": "195f5fff-bf1a-4af0-b6f0-24aa82725439",
   "metadata": {
    "colab": {
     "base_uri": "https://localhost:8080/",
     "height": 472
    },
    "id": "195f5fff-bf1a-4af0-b6f0-24aa82725439",
    "outputId": "88e05ccd-e932-4bda-cc44-5a0103461000"
   },
   "outputs": [
    {
     "data": {
      "image/png": "[encoded data removed]",
      "text/plain": [
       "<Figure size 432x288 with 1 Axes>"
      ]
     },
     "metadata": {
      "needs_background": "light"
     },
     "output_type": "display_data"
    }
   ],
   "source": [
    "import sklearn.metrics as metrics\n",
    "\n",
    "fpr, tpr, threshold = metrics.roc_curve(y_test, y_pred[:,1])\n",
    "roc_auc = metrics.auc(fpr, tpr)\n",
    "\n",
    "plt.title('Receiver Operating Characteristic')\n",
    "plt.plot(fpr, tpr, 'b', label = 'AUC = %0.2f' % roc_auc)\n",
    "plt.legend(loc = 'lower right')\n",
    "plt.plot([0, 1], [0, 1],'r--')\n",
    "plt.xlim([0, 1])\n",
    "plt.ylim([0, 1])\n",
    "plt.ylabel('True Positive Rate')\n",
    "plt.xlabel('False Positive Rate')\n",
    "plt.show()"
   ]
  },
  {
   "cell_type": "markdown",
   "id": "0318fb07-eb9e-4ec8-a55e-4c9bf81e3f25",
   "metadata": {
    "id": "0318fb07-eb9e-4ec8-a55e-4c9bf81e3f25"
   },
   "source": [
    "**Notice that we are facing an unbalanced classification problem, there lots of no-goals and few goals**:"
   ]
  },
  {
   "cell_type": "code",
   "execution_count": 21,
   "id": "62af1115-f209-42e9-9595-bb11a654b6ec",
   "metadata": {
    "colab": {
     "base_uri": "https://localhost:8080/"
    },
    "id": "62af1115-f209-42e9-9595-bb11a654b6ec",
    "outputId": "9becf5c4-be68-48f6-ef3c-08e5e0fc7eee"
   },
   "outputs": [
    {
     "name": "stdout",
     "output_type": "stream",
     "text": [
      "Goals: 634\n",
      "Total shots: 5593\n"
     ]
    }
   ],
   "source": [
    "print(f'Goals: {y_train.sum()}')\n",
    "print(f'Total shots: {len(y_train)}')"
   ]
  },
  {
   "cell_type": "markdown",
   "id": "1cb6ebff-7a40-4959-b0c9-c43d40ca3f07",
   "metadata": {
    "id": "1cb6ebff-7a40-4959-b0c9-c43d40ca3f07"
   },
   "source": [
    "We need to know the proportion"
   ]
  },
  {
   "cell_type": "code",
   "execution_count": 22,
   "id": "d5fa8936-17a4-42fc-9d21-51083af76bec",
   "metadata": {
    "colab": {
     "base_uri": "https://localhost:8080/"
    },
    "id": "d5fa8936-17a4-42fc-9d21-51083af76bec",
    "outputId": "6a10059a-0821-419c-a9db-7712be5d3541"
   },
   "outputs": [
    {
     "data": {
      "text/plain": [
       "0.1133559806901484"
      ]
     },
     "execution_count": 22,
     "metadata": {},
     "output_type": "execute_result"
    }
   ],
   "source": [
    "y_train.sum() / len(y_train)"
   ]
  },
  {
   "cell_type": "markdown",
   "id": "726042f1-05ff-40e5-9837-bc33108677f1",
   "metadata": {
    "id": "726042f1-05ff-40e5-9837-bc33108677f1"
   },
   "source": [
    "**Now we include this weight into the regressor:**"
   ]
  },
  {
   "cell_type": "code",
   "execution_count": 23,
   "id": "959bac94-1514-44ef-8df5-4841a354723f",
   "metadata": {
    "id": "959bac94-1514-44ef-8df5-4841a354723f"
   },
   "outputs": [],
   "source": [
    "X_train, X_test, y_train, y_test = train_test_split(X, y, test_size=0.3, random_state=0, stratify=y)\n",
    "#We include the 'stratify' attribute in order to split the dataset with the same goal/no-goal proportion\n",
    "\n",
    "clf = LogisticRegression(random_state=0, class_weight={1:1, 0:0.1133}).fit(np.array(X_train).reshape(-1, 1), y_train)\n",
    "#we include the class weight as a dictionary:\n",
    "y_pred = clf.predict_proba(np.array(X_test).reshape(-1,1))"
   ]
  },
  {
   "cell_type": "code",
   "execution_count": 24,
   "id": "f48a7e2e-ac4a-4f27-adc3-3af17eb0bfcb",
   "metadata": {
    "colab": {
     "base_uri": "https://localhost:8080/"
    },
    "id": "f48a7e2e-ac4a-4f27-adc3-3af17eb0bfcb",
    "outputId": "d9635fff-44a2-4b2c-e31b-3177fff1a80e"
   },
   "outputs": [
    {
     "data": {
      "text/plain": [
       "array([[0.84210894, 0.15789106],\n",
       "       [0.83892124, 0.16107876],\n",
       "       [0.58332071, 0.41667929],\n",
       "       ...,\n",
       "       [0.15484796, 0.84515204],\n",
       "       [0.66053759, 0.33946241],\n",
       "       [0.78099862, 0.21900138]])"
      ]
     },
     "execution_count": 24,
     "metadata": {},
     "output_type": "execute_result"
    }
   ],
   "source": [
    "y_pred"
   ]
  },
  {
   "cell_type": "code",
   "execution_count": 25,
   "id": "05c7e593-889b-4cae-aaf1-e9d76eff53d7",
   "metadata": {
    "colab": {
     "base_uri": "https://localhost:8080/",
     "height": 449
    },
    "id": "05c7e593-889b-4cae-aaf1-e9d76eff53d7",
    "outputId": "4ef3d454-0927-4329-a195-84c11a28fc33"
   },
   "outputs": [
    {
     "data": {
      "image/png": "[encoded data removed]",
      "text/plain": [
       "<Figure size 432x288 with 1 Axes>"
      ]
     },
     "metadata": {
      "needs_background": "light"
     },
     "output_type": "display_data"
    }
   ],
   "source": [
    "x_c, y_c = calibration_curve(y_test, y_pred[:,1], n_bins=15)\n",
    "plt.plot([0, 1], [0, 1], 'r--', label = 'Ideally Calibrated')\n",
    "plt.plot(y_c, x_c, marker = '.', color='b', label = 'Model v1')\n",
    "\n",
    "plt.plot([])\n",
    "\n",
    "leg = plt.legend(loc = 'upper left')\n",
    "plt.xlabel('Average Predicted Probability in each bin')\n",
    "plt.ylabel('Ratio of positives')\n",
    "plt.show()"
   ]
  },
  {
   "cell_type": "code",
   "execution_count": 26,
   "id": "d07815ed-4cef-4aad-9656-9040fa34ab1d",
   "metadata": {
    "colab": {
     "base_uri": "https://localhost:8080/",
     "height": 472
    },
    "id": "d07815ed-4cef-4aad-9656-9040fa34ab1d",
    "outputId": "34dc5929-e5ae-4e3d-a6d3-948172694c02"
   },
   "outputs": [
    {
     "data": {
      "image/png": "[encoded data removed]",
      "text/plain": [
       "<Figure size 432x288 with 1 Axes>"
      ]
     },
     "metadata": {
      "needs_background": "light"
     },
     "output_type": "display_data"
    }
   ],
   "source": [
    "fpr, tpr, threshold = metrics.roc_curve(y_test, y_pred[:,1])\n",
    "roc_auc = metrics.auc(fpr, tpr)\n",
    "\n",
    "plt.title('Receiver Operating Characteristic')\n",
    "plt.plot(fpr, tpr, 'b', label = 'AUC = %0.2f' % roc_auc)\n",
    "plt.legend(loc = 'lower right')\n",
    "plt.plot([0, 1], [0, 1],'r--')\n",
    "plt.xlim([0, 1])\n",
    "plt.ylim([0, 1])\n",
    "plt.ylabel('True Positive Rate')\n",
    "plt.xlabel('False Positive Rate')\n",
    "plt.show()"
   ]
  },
  {
   "cell_type": "markdown",
   "id": "8fbfa1ec-4d54-4511-89f7-e24a0dc4e5b4",
   "metadata": {
    "id": "8fbfa1ec-4d54-4511-89f7-e24a0dc4e5b4"
   },
   "source": [
    "**Check how the predicted goal probability depends on the shot distance**:"
   ]
  },
  {
   "cell_type": "code",
   "execution_count": 27,
   "id": "cfffeee4-1dd6-4619-ad49-9e3cc91c97f5",
   "metadata": {
    "colab": {
     "base_uri": "https://localhost:8080/",
     "height": 447
    },
    "id": "cfffeee4-1dd6-4619-ad49-9e3cc91c97f5",
    "outputId": "db6e3257-4f32-4bb1-a4f6-5813b89b935f"
   },
   "outputs": [
    {
     "data": {
      "text/plain": [
       "[<matplotlib.lines.Line2D at 0x7f9db2999250>]"
      ]
     },
     "execution_count": 27,
     "metadata": {},
     "output_type": "execute_result"
    },
    {
     "data": {
      "image/png": "[encoded data removed]",
      "text/plain": [
       "<Figure size 432x288 with 1 Axes>"
      ]
     },
     "metadata": {
      "needs_background": "light"
     },
     "output_type": "display_data"
    }
   ],
   "source": [
    "plt.plot(X_test, y_pred[:,1], '.')"
   ]
  },
  {
   "cell_type": "markdown",
   "id": "97edacaf-485c-4438-a949-b9aa2d0a37d8",
   "metadata": {
    "id": "97edacaf-485c-4438-a949-b9aa2d0a37d8"
   },
   "source": [
    "**Let's try to improve our model by adding a new variable: The shot's angle to goal**:"
   ]
  },
  {
   "cell_type": "markdown",
   "id": "a0c0c0fc-2278-4b07-8bbe-3c1e8b9ed562",
   "metadata": {
    "id": "a0c0c0fc-2278-4b07-8bbe-3c1e8b9ed562"
   },
   "source": [
    "Here you got a function that computes the angle to goal given a shot location:"
   ]
  },
  {
   "cell_type": "code",
   "execution_count": 53,
   "id": "198c7ffc-a3d9-43e5-8451-3c00e519ecae",
   "metadata": {
    "id": "198c7ffc-a3d9-43e5-8451-3c00e519ecae"
   },
   "outputs": [],
   "source": [
    "def angle_to_goal(shot_location):\n",
    "\n",
    "    v1 = np.array([105, (68+7.5)/2]) - shot_location #68/2 +- 7.5 are the locations of the goal posts!\n",
    "    v2 = np.array([105, (68-7.5)/2]) - shot_location\n",
    "\n",
    "    cosang = np.dot(v1, v2)\n",
    "    sinang = np.linalg.norm(np.cross(v1, v2))\n",
    "\n",
    "    return np.arctan2(sinang, cosang)"
   ]
  },
  {
   "cell_type": "code",
   "execution_count": 54,
   "id": "7488ceb9-b8cd-4bf1-bd87-b9e08b51eb09",
   "metadata": {
    "id": "7488ceb9-b8cd-4bf1-bd87-b9e08b51eb09"
   },
   "outputs": [],
   "source": [
    "df_shots['angle_to_goal'] = df_shots.apply(lambda row: angle_to_goal(np.array([row.origin_pos_x, row.origin_pos_y])*pitch_dim), axis=1)"
   ]
  },
  {
   "cell_type": "code",
   "execution_count": 55,
   "id": "3dc94187-2019-40b5-b326-17c4add16c4e",
   "metadata": {
    "colab": {
     "base_uri": "https://localhost:8080/",
     "height": 458
    },
    "id": "3dc94187-2019-40b5-b326-17c4add16c4e",
    "outputId": "1b3989ef-9625-4c0c-cd94-e5b57e5b20fd"
   },
   "outputs": [
    {
     "data": {
      "text/plain": [
       "0       0.429868\n",
       "1       0.401977\n",
       "2       0.382451\n",
       "3       0.155264\n",
       "4       0.442236\n",
       "          ...   \n",
       "7985    0.304680\n",
       "7986    0.612886\n",
       "7987    1.221690\n",
       "7988    0.680808\n",
       "7989    0.772569\n",
       "Name: angle_to_goal, Length: 7990, dtype: float64"
      ]
     },
     "execution_count": 55,
     "metadata": {},
     "output_type": "execute_result"
    }
   ],
   "source": [
    "df_shots.angle_to_goal #in radians"
   ]
  },
  {
   "cell_type": "code",
   "execution_count": 31,
   "id": "f9af908e-c4f2-45e3-822b-e081464eab76",
   "metadata": {
    "colab": {
     "base_uri": "https://localhost:8080/",
     "height": 516
    },
    "id": "f9af908e-c4f2-45e3-822b-e081464eab76",
    "outputId": "ddc3bf60-3362-4d16-9fe4-a1e6cef6a93b"
   },
   "outputs": [
    {
     "name": "stdout",
     "output_type": "stream",
     "text": [
      "24.629634366400968\n"
     ]
    },
    {
     "data": {
      "image/png": "[encoded data removed]",
      "text/plain": [
       "<Figure size 441.176x600 with 1 Axes>"
      ]
     },
     "metadata": {
      "needs_background": "light"
     },
     "output_type": "display_data"
    }
   ],
   "source": [
    "fig, ax = _draw_field(fig_size=6, width=50, height=hh, lines_color='black') #football pitch figure and axis initialization\n",
    "\n",
    "shot_to_plot = df_shots.loc[0]\n",
    "print(shot_to_plot.angle_to_goal *360 / (2*np.pi))\n",
    "\n",
    "for player in eval(shot_to_plot.freeze_frame): #always use eval()\n",
    "    color = 'blue' if player['teammate'] == True else 'red' #we define teammate's color as blue, opponent color red\n",
    "    color = 'yellow' if player['actor'] == True else color #we define actor's color as yellow\n",
    "\n",
    "    ax.scatter(player['location'][0]*ww, player['location'][1]*hh, color=color, s=50, zorder=100)\n",
    "\n",
    "ax.plot([shot_to_plot.origin_pos_x*ww, shot_to_plot.destination_pos_x*ww], [shot_to_plot.origin_pos_y*hh, shot_to_plot.destination_pos_y*hh],\n",
    "        color='green', lw=1)\n",
    "ax.plot([shot_to_plot.origin_pos_x*ww, 105], [shot_to_plot.origin_pos_y*hh, 68/2+7.5], lw=3, ls='--', color='grey')\n",
    "ax.plot([shot_to_plot.origin_pos_x*ww, 105], [shot_to_plot.origin_pos_y*hh, 68/2-7.5], lw=3, ls='--', color='grey')\n",
    "plt.xlim(55, 105)\n",
    "plt.show()"
   ]
  },
  {
   "cell_type": "markdown",
   "id": "26c11c83-237a-4720-8cfa-2e2d4d837c5a",
   "metadata": {
    "id": "26c11c83-237a-4720-8cfa-2e2d4d837c5a"
   },
   "source": [
    "**So we want to compute the angle between the two grey dashed lines!**"
   ]
  },
  {
   "cell_type": "markdown",
   "id": "94cc4b04-f569-40d2-8bb2-4ed1500bac6a",
   "metadata": {
    "id": "94cc4b04-f569-40d2-8bb2-4ed1500bac6a"
   },
   "source": [
    "**Once we have included our new variable, lets build a new model**:"
   ]
  },
  {
   "cell_type": "code",
   "execution_count": 32,
   "id": "344a8af9-9178-46e7-a56c-2da8a350d570",
   "metadata": {
    "id": "344a8af9-9178-46e7-a56c-2da8a350d570"
   },
   "outputs": [],
   "source": [
    "X2 = df_shots[['distance_to_goal', 'angle_to_goal']]\n",
    "y2 = df_shots.is_goal\n",
    "\n",
    "X_train2, X_test2, y_train2, y_test2 = train_test_split(X2, y2, test_size=0.3, random_state=0, stratify=y)\n",
    "#We include the 'stratify' attribute in order to split the dataset with the same goal/no-goal proportion\n",
    "\n",
    "clf2 = LogisticRegression(random_state=0, class_weight={1:1, 0:0.1133}).fit(X_train2, y_train2)\n",
    "y_pred2 = clf2.predict_proba(X_test2)"
   ]
  },
  {
   "cell_type": "code",
   "execution_count": 33,
   "id": "7523e512-369f-4608-b030-c287724f8e54",
   "metadata": {
    "colab": {
     "base_uri": "https://localhost:8080/",
     "height": 449
    },
    "id": "7523e512-369f-4608-b030-c287724f8e54",
    "outputId": "80b559f4-e120-4503-b92d-8b3e324e9c5b"
   },
   "outputs": [
    {
     "data": {
      "image/png": "[encoded data removed]",
      "text/plain": [
       "<Figure size 432x288 with 1 Axes>"
      ]
     },
     "metadata": {
      "needs_background": "light"
     },
     "output_type": "display_data"
    }
   ],
   "source": [
    "x_c2, y_c2 = calibration_curve(y_test2, y_pred2[:,1], n_bins=15)\n",
    "plt.plot([0, 1], [0, 1], 'r--', label = 'Ideally Calibrated')\n",
    "plt.plot(y_c2, x_c2, marker = '.', color='b', label = 'Model v2')\n",
    "\n",
    "plt.plot([])\n",
    "\n",
    "leg = plt.legend(loc = 'upper left')\n",
    "plt.xlabel('Average Predicted Probability in each bin')\n",
    "plt.ylabel('Ratio of positives')\n",
    "plt.show()"
   ]
  },
  {
   "cell_type": "code",
   "execution_count": 34,
   "id": "96621f14-407c-41f8-884c-11f377870d2d",
   "metadata": {
    "colab": {
     "base_uri": "https://localhost:8080/",
     "height": 472
    },
    "id": "96621f14-407c-41f8-884c-11f377870d2d",
    "outputId": "c8ad1f93-bba5-4253-e90f-582d3d5f4a7e"
   },
   "outputs": [
    {
     "data": {
      "image/png": "[encoded data removed]",
      "text/plain": [
       "<Figure size 432x288 with 1 Axes>"
      ]
     },
     "metadata": {
      "needs_background": "light"
     },
     "output_type": "display_data"
    }
   ],
   "source": [
    "fpr2, tpr2, threshold = metrics.roc_curve(y_test2, y_pred2[:,1])\n",
    "roc_auc2 = metrics.auc(fpr2, tpr2)\n",
    "\n",
    "plt.title('Receiver Operating Characteristic')\n",
    "plt.plot(fpr2, tpr2, 'b', label = 'AUC = %0.2f' % roc_auc2)\n",
    "plt.legend(loc = 'lower right')\n",
    "plt.plot([0, 1], [0, 1],'r--')\n",
    "plt.xlim([0, 1])\n",
    "plt.ylim([0, 1])\n",
    "plt.ylabel('True Positive Rate')\n",
    "plt.xlabel('False Positive Rate')\n",
    "plt.show()"
   ]
  },
  {
   "cell_type": "code",
   "execution_count": 35,
   "id": "33b5f5a0-ff80-4c74-ad20-b7afb2c34626",
   "metadata": {
    "colab": {
     "base_uri": "https://localhost:8080/",
     "height": 447
    },
    "id": "33b5f5a0-ff80-4c74-ad20-b7afb2c34626",
    "outputId": "5e5231dc-8829-46ba-9b32-f41b189e35a4"
   },
   "outputs": [
    {
     "data": {
      "text/plain": [
       "[<matplotlib.lines.Line2D at 0x7f9dd02c5520>]"
      ]
     },
     "execution_count": 35,
     "metadata": {},
     "output_type": "execute_result"
    },
    {
     "data": {
      "image/png": "[encoded data removed]",
      "text/plain": [
       "<Figure size 432x288 with 1 Axes>"
      ]
     },
     "metadata": {
      "needs_background": "light"
     },
     "output_type": "display_data"
    }
   ],
   "source": [
    "plt.plot(X_test2.angle_to_goal, y_pred2[:,1], '.')"
   ]
  },
  {
   "cell_type": "code",
   "execution_count": 36,
   "id": "9fbe8341-be61-49dd-8c4f-1edf47dd0571",
   "metadata": {
    "colab": {
     "base_uri": "https://localhost:8080/",
     "height": 447
    },
    "id": "9fbe8341-be61-49dd-8c4f-1edf47dd0571",
    "outputId": "16304f30-a6bc-43fc-d999-78506c69a614"
   },
   "outputs": [
    {
     "data": {
      "text/plain": [
       "[<matplotlib.lines.Line2D at 0x7f9db2095b20>]"
      ]
     },
     "execution_count": 36,
     "metadata": {},
     "output_type": "execute_result"
    },
    {
     "data": {
      "image/png": "[encoded data removed]",
      "text/plain": [
       "<Figure size 432x288 with 1 Axes>"
      ]
     },
     "metadata": {
      "needs_background": "light"
     },
     "output_type": "display_data"
    }
   ],
   "source": [
    "plt.plot(X_test2.distance_to_goal, y_pred2[:,1], '.')"
   ]
  },
  {
   "cell_type": "markdown",
   "id": "f6179ca8-8a6e-4012-967c-362ff4856567",
   "metadata": {
    "id": "f6179ca8-8a6e-4012-967c-362ff4856567"
   },
   "source": [
    "**Quick code to compute a xG map within the football pitch**:"
   ]
  },
  {
   "cell_type": "code",
   "execution_count": 37,
   "id": "22257cad-7168-4fad-93a1-0c1fb366532f",
   "metadata": {
    "colab": {
     "base_uri": "https://localhost:8080/",
     "height": 49,
     "referenced_widgets": [
      "5db57f6141d84092aa6b3978db32bc11",
      "ffecc554a78546cebfcdd0866270a124",
      "28106880e29c4e868cf8419b87515c1a",
      "9c46083bb77f424eab2f1435ddcd3849",
      "ae1d0a1449484e31b97ce3e804ea96ce",
      "a29d8b477d8f4089bd1a0da3500a3cd8",
      "593aa1d560af4feaa679b37994ebc9b9",
      "c8952d9129954cce87a8e0c467d82de2",
      "9e5121b9b957493099e395967be62edd",
      "144ae28dc64a45a6989fc24f6bf9181d",
      "8873f574056c480a9515deb707ba9085"
     ]
    },
    "id": "22257cad-7168-4fad-93a1-0c1fb366532f",
    "outputId": "27b73c48-3a4b-4b8e-9d67-5e13ee684f9a"
   },
   "outputs": [
    {
     "data": {
      "application/vnd.jupyter.widget-view+json": {
       "model_id": "43bde2e192d741debc365d234c722cf3",
       "version_major": 2,
       "version_minor": 0
      },
      "text/plain": [
       "  0%|          | 0/50 [00:00<?, ?it/s]"
      ]
     },
     "metadata": {},
     "output_type": "display_data"
    }
   ],
   "source": [
    "import tqdm.notebook as notebook\n",
    "\n",
    "x_array = np.linspace(0.5, 104.5, 50)\n",
    "y_array = np.linspace(0.5, 67.5, 30)\n",
    "\n",
    "xG_map = np.zeros((len(y_array), len(x_array)))\n",
    "\n",
    "df_xG_map = pd.DataFrame()\n",
    "for x in notebook.tqdm(range(len(x_array))):\n",
    "    for y in range(len(y_array)):\n",
    "        shot_location = np.array([x_array[x], y_array[y]])\n",
    "        df_xG_map = pd.concat([df_xG_map, pd.DataFrame({'x': x, 'y': y, 'distance_to_goal': distance_to_goal(shot_location),\n",
    "                                      'angle_to_goal': angle_to_goal(shot_location)}, index=[x+y])])\n",
    "\n",
    "df_xG_map['xG'] = clf2.predict_proba(df_xG_map[['distance_to_goal', 'angle_to_goal']])[:,1]"
   ]
  },
  {
   "cell_type": "code",
   "execution_count": 38,
   "id": "920f5c59-1972-4671-9558-973d255b864f",
   "metadata": {
    "colab": {
     "base_uri": "https://localhost:8080/",
     "height": 104,
     "referenced_widgets": [
      "036237889e074d07804fd16358d7a0ab",
      "7215481161c04e5483e32586251c5bf4",
      "6b0f83a90906487b9b0efc8881662a71",
      "81ff5487c0324718bc8e2ec2f69cf012",
      "646b83b9c18b448da958a785c50ee8ee",
      "bfd57d311c8147e19e8e56b78f120cfc",
      "c9d7c696af3e46229b72a53313367e05",
      "06f88d2790e248d7b73c22421b9f44e2",
      "d363e2a485264d609146d281865b8a38",
      "e8e4f971bfc3421185b7eeaaa5834125",
      "2800cb9694954fdb983d7fa6897feef3"
     ]
    },
    "id": "920f5c59-1972-4671-9558-973d255b864f",
    "outputId": "e9a1becc-6f1d-41f7-d8dd-216876957128"
   },
   "outputs": [
    {
     "data": {
      "application/vnd.jupyter.widget-view+json": {
       "model_id": "e8000f3975b24690898d190fd2eb1f21",
       "version_major": 2,
       "version_minor": 0
      },
      "text/plain": [
       "  0%|          | 0/50 [00:00<?, ?it/s]"
      ]
     },
     "metadata": {},
     "output_type": "display_data"
    }
   ],
   "source": [
    "for x in notebook.tqdm(range(len(x_array))):\n",
    "    for y in range(len(y_array)):\n",
    "        xG_map[y,x] = df_xG_map.loc[(df_xG_map.x==x) & (df_xG_map.y==y)].xG"
   ]
  },
  {
   "cell_type": "code",
   "execution_count": 39,
   "id": "a53515eb-402d-459c-941f-9c9bf550f31b",
   "metadata": {
    "colab": {
     "base_uri": "https://localhost:8080/",
     "height": 507
    },
    "id": "a53515eb-402d-459c-941f-9c9bf550f31b",
    "outputId": "7f273d54-f5ed-4822-a9f7-7249a721038e"
   },
   "outputs": [
    {
     "data": {
      "image/png": "[encoded data removed]",
      "text/plain": [
       "<Figure size 397.059x600 with 2 Axes>"
      ]
     },
     "metadata": {
      "needs_background": "light"
     },
     "output_type": "display_data"
    }
   ],
   "source": [
    "fig, ax = _draw_field(fig_size=6, width=45, height=hh, lines_color='black')\n",
    "\n",
    "cs = ax.contourf(x_array, y_array, xG_map, 100, levels=20, vmin=0, vmax=1, cmap= 'coolwarm', zorder=1)\n",
    "cbar = plt.colorbar(cs, ax=ax)\n",
    "plt.xlim(70,105)\n",
    "plt.show()"
   ]
  },
  {
   "cell_type": "markdown",
   "id": "0bed8bae-2efa-4c72-a670-a230e847d5c5",
   "metadata": {
    "id": "0bed8bae-2efa-4c72-a670-a230e847d5c5"
   },
   "source": [
    "**In the following cell, I import my personal xG model, so you can compare your results with it. Notice that it is impossible that you get equal or better results by using a simple logistic regression, but keep it as \"perfect\" xG model reference**:"
   ]
  },
  {
   "cell_type": "markdown",
   "id": "c8914b4f-9946-4a4a-af59-9d147f06bd42",
   "metadata": {
    "id": "c8914b4f-9946-4a4a-af59-9d147f06bd42"
   },
   "source": [
    "**To sum it up, let's check the calibration curve for the three models (two tested, and my personal one)**"
   ]
  },
  {
   "cell_type": "markdown",
   "id": "96e9b4b4-24a4-4dfb-8ff5-e48353284c04",
   "metadata": {
    "id": "96e9b4b4-24a4-4dfb-8ff5-e48353284c04"
   },
   "source": [
    "model v2 is slighlty better calibrated than model v1 at low probabilities, but still far from the teacher model."
   ]
  },
  {
   "cell_type": "markdown",
   "id": "1604f12e-e80a-4a2b-a124-fc451e2b5e2a",
   "metadata": {
    "id": "1604f12e-e80a-4a2b-a124-fc451e2b5e2a"
   },
   "source": [
    "**Lastly, lets introduce SHAP library:**"
   ]
  },
  {
   "cell_type": "markdown",
   "id": "0ecb7500-7719-472d-b8dd-1487d49e9239",
   "metadata": {
    "id": "0ecb7500-7719-472d-b8dd-1487d49e9239"
   },
   "source": [
    "**SHAP (SHapley Additive exPlanations) is a game theoretic approach to explain the output of any machine learning model. It connects optimal credit allocation with local explanations using the classic Shapley values from game theory.**\n",
    "\n",
    "See further documentation:\n",
    "https://shap.readthedocs.io/en/latest/index.html"
   ]
  },
  {
   "cell_type": "markdown",
   "id": "516632cb-afa4-4099-aee2-525b8569cc56",
   "metadata": {
    "id": "516632cb-afa4-4099-aee2-525b8569cc56"
   },
   "source": [
    "**QUICK SHAP IDEA: it describes each variable's importance within the given model**\n",
    "\n",
    "Lets do a quick example with our v2 model:"
   ]
  },
  {
   "cell_type": "markdown",
   "id": "e317b3ba-d863-4e21-996b-05aa2e1fba38",
   "metadata": {
    "id": "e317b3ba-d863-4e21-996b-05aa2e1fba38"
   },
   "source": [
    "## **SHAP library's beewsarm plot output:**"
   ]
  },
  {
   "cell_type": "markdown",
   "id": "2140168a-8f0b-451b-ac75-d0029c5ccae8",
   "metadata": {
    "id": "2140168a-8f0b-451b-ac75-d0029c5ccae8"
   },
   "source": [
    "Firstly, shap's beesarm plot shows us the model's feature importance, from top to bottom. In our model v2 case, distance to goal is the most important feature.\n",
    "\n",
    "Each point in the beewsarm plot correspond to a single observation (in our case, a single shot event). For a logistic regression problem, positive SHAP values correspond to feature's importance towards the 1 output (goal) and negative SHAP values correspond to feature's importance towards 0 output. Also, the color of each point represent the observation feature's value. This is, lower (blue) values of distance to goal feature leads to better xG output (towards 1 output), while bigger values leads our model's output to 0 (worse xG output). Again, bigger values of angle to goal feature leads to better xG output."
   ]
  },
  {
   "cell_type": "markdown",
   "id": "339c4854-b711-4b6d-89ad-f8eab5f727c1",
   "metadata": {
    "id": "339c4854-b711-4b6d-89ad-f8eab5f727c1"
   },
   "source": [
    "## EXERCISES"
   ]
  },
  {
   "cell_type": "markdown",
   "id": "56a725bd-be7d-469d-8c9e-8fcf7f7f0248",
   "metadata": {
    "id": "56a725bd-be7d-469d-8c9e-8fcf7f7f0248"
   },
   "source": [
    "#### **1. Why do we use angle to goal as the available angle between the shot and the posts, and not the angle towards the goal's center? (1 point)**"
   ]
  },
  {
   "cell_type": "markdown",
   "id": "HvTBruA0G9aV",
   "metadata": {
    "id": "HvTBruA0G9aV"
   },
   "source": [
    "Calculating expected goals by focusing on the angle between the shot and the goalposts provides a more accurate assessment of the scoring opportunity available. This approach takes into account the positioning of the goalkeeper and defenders, which can impact the likelihood of scoring. In contrast, measuring the angle to the center of the goal does not factor in these defensive elements, potentially leading to less precise calculations."
   ]
  },
  {
   "cell_type": "markdown",
   "id": "f8a171a9-0875-44ab-984f-53aa19286354",
   "metadata": {
    "id": "f8a171a9-0875-44ab-984f-53aa19286354"
   },
   "source": [
    "#### **2. FEATURE ENGINEERING: Build 5 more features to implement the model with (two more besides distance and angle to goal) (5 points)**"
   ]
  },
  {
   "cell_type": "markdown",
   "id": "2cc927ae-fcfc-437d-bbc6-8585289b710e",
   "metadata": {
    "id": "2cc927ae-fcfc-437d-bbc6-8585289b710e"
   },
   "source": [
    "**You can use the is_header, is_penalty, etc. features included in the dataframe to improve your model's performance, but I want you to build 5 NEW features**"
   ]
  },
  {
   "cell_type": "markdown",
   "id": "3827df30-9691-40e7-82f8-c46327b83a24",
   "metadata": {
    "id": "3827df30-9691-40e7-82f8-c46327b83a24"
   },
   "source": [
    "**For this exercise feel free to use the following functions (not mandatory, though):**"
   ]
  },
  {
   "cell_type": "markdown",
   "id": "0b994503-55b1-4bd5-a6fe-137502488639",
   "metadata": {
    "id": "0b994503-55b1-4bd5-a6fe-137502488639"
   },
   "source": [
    "Angle between two vectors:"
   ]
  },
  {
   "cell_type": "code",
   "execution_count": 40,
   "id": "d736c0c4-a185-4f37-b144-4bcc8fde2814",
   "metadata": {
    "id": "d736c0c4-a185-4f37-b144-4bcc8fde2814"
   },
   "outputs": [],
   "source": [
    "def v_angle(v1, v2): #two vectors v1, v2 in numpy array format\n",
    "\n",
    "    cosang = np.dot(v1, v2)\n",
    "    sinang = np.linalg.norm(np.cross(v1, v2))\n",
    "\n",
    "    return np.arctan2(sinang, cosang)"
   ]
  },
  {
   "cell_type": "markdown",
   "id": "ee558e8b-52f7-4997-8f45-c192855e0566",
   "metadata": {
    "id": "ee558e8b-52f7-4997-8f45-c192855e0566"
   },
   "source": [
    "Angle between two points, with respect to the x-axis:"
   ]
  },
  {
   "cell_type": "code",
   "execution_count": 41,
   "id": "43c68f3a-2673-4479-b91a-a16e98848d96",
   "metadata": {
    "id": "43c68f3a-2673-4479-b91a-a16e98848d96"
   },
   "outputs": [],
   "source": [
    "def p_angle(p1, p2): #two points p1, p2 in numpy array format THE ORDER MATTERS, ALWAYS IN FORWARD DIRECTION p1 -> p2 != p2 -> p1\n",
    "\n",
    "    return np.arctan2(p2[1] - p1[1], p2[0] -  p1[0])"
   ]
  },
  {
   "cell_type": "markdown",
   "id": "e0a87a7a-76af-4a3c-9fac-8173c484316e",
   "metadata": {
    "id": "e0a87a7a-76af-4a3c-9fac-8173c484316e"
   },
   "source": [
    "Check if point is contained inside a set of points' hull (Boolean output!):"
   ]
  },
  {
   "cell_type": "code",
   "execution_count": 42,
   "id": "655e003f-e9cd-41e2-b4f7-cf280080b7bc",
   "metadata": {
    "id": "655e003f-e9cd-41e2-b4f7-cf280080b7bc"
   },
   "outputs": [],
   "source": [
    "from scipy.spatial import ConvexHull\n",
    "\n",
    "def point_in_hull(points_to_build_hull, point, tolerance=1e-12):\n",
    "\n",
    "    hull = ConvexHull(pos_positions)\n",
    "\n",
    "    return all(\n",
    "        (np.dot(eq[:-1], point) + eq[-1] <= tolerance)\n",
    "        for eq in hull.equations)"
   ]
  },
  {
   "cell_type": "code",
   "execution_count": 43,
   "id": "FuNphJv70hTH",
   "metadata": {
    "colab": {
     "base_uri": "https://localhost:8080/",
     "height": 496
    },
    "id": "FuNphJv70hTH",
    "outputId": "64d40690-9907-4fed-ae6b-eb4ce7724c02"
   },
   "outputs": [
    {
     "data": {
      "text/html": [
       "<div>\n",
       "<style scoped>\n",
       "    .dataframe tbody tr th:only-of-type {\n",
       "        vertical-align: middle;\n",
       "    }\n",
       "\n",
       "    .dataframe tbody tr th {\n",
       "        vertical-align: top;\n",
       "    }\n",
       "\n",
       "    .dataframe thead th {\n",
       "        text-align: right;\n",
       "    }\n",
       "</style>\n",
       "<table border=\"1\" class=\"dataframe\">\n",
       "  <thead>\n",
       "    <tr style=\"text-align: right;\">\n",
       "      <th></th>\n",
       "      <th>Unnamed: 0</th>\n",
       "      <th>start_frame</th>\n",
       "      <th>end_frame</th>\n",
       "      <th>event_type</th>\n",
       "      <th>origin_pos_x</th>\n",
       "      <th>origin_pos_y</th>\n",
       "      <th>destination_pos_x</th>\n",
       "      <th>destination_pos_y</th>\n",
       "      <th>is_header</th>\n",
       "      <th>is_goal</th>\n",
       "      <th>freeze_frame</th>\n",
       "      <th>from_set_pieces</th>\n",
       "      <th>from_free_kick</th>\n",
       "      <th>from_penalty</th>\n",
       "    </tr>\n",
       "  </thead>\n",
       "  <tbody>\n",
       "    <tr>\n",
       "      <th>0</th>\n",
       "      <td>0</td>\n",
       "      <td>3230.175</td>\n",
       "      <td>3249.033025</td>\n",
       "      <td>Shot</td>\n",
       "      <td>0.899167</td>\n",
       "      <td>0.6275</td>\n",
       "      <td>1.000000</td>\n",
       "      <td>0.5400</td>\n",
       "      <td>False</td>\n",
       "      <td>False</td>\n",
       "      <td>[{'teammate': True, 'actor': False, 'keeper': ...</td>\n",
       "      <td>False</td>\n",
       "      <td>False</td>\n",
       "      <td>False</td>\n",
       "    </tr>\n",
       "    <tr>\n",
       "      <th>1</th>\n",
       "      <td>1</td>\n",
       "      <td>14167.350</td>\n",
       "      <td>14185.561050</td>\n",
       "      <td>Shot</td>\n",
       "      <td>0.870833</td>\n",
       "      <td>0.3775</td>\n",
       "      <td>0.977500</td>\n",
       "      <td>0.4850</td>\n",
       "      <td>False</td>\n",
       "      <td>False</td>\n",
       "      <td>[{'teammate': True, 'actor': False, 'keeper': ...</td>\n",
       "      <td>False</td>\n",
       "      <td>False</td>\n",
       "      <td>False</td>\n",
       "    </tr>\n",
       "    <tr>\n",
       "      <th>2</th>\n",
       "      <td>2</td>\n",
       "      <td>15756.100</td>\n",
       "      <td>15780.660425</td>\n",
       "      <td>Shot</td>\n",
       "      <td>0.849167</td>\n",
       "      <td>0.3875</td>\n",
       "      <td>1.000000</td>\n",
       "      <td>0.4475</td>\n",
       "      <td>False</td>\n",
       "      <td>False</td>\n",
       "      <td>[{'teammate': True, 'actor': False, 'keeper': ...</td>\n",
       "      <td>True</td>\n",
       "      <td>False</td>\n",
       "      <td>False</td>\n",
       "    </tr>\n",
       "    <tr>\n",
       "      <th>3</th>\n",
       "      <td>3</td>\n",
       "      <td>20942.500</td>\n",
       "      <td>20985.413775</td>\n",
       "      <td>Shot</td>\n",
       "      <td>0.666667</td>\n",
       "      <td>0.1825</td>\n",
       "      <td>0.964167</td>\n",
       "      <td>0.4975</td>\n",
       "      <td>False</td>\n",
       "      <td>False</td>\n",
       "      <td>[{'teammate': True, 'actor': False, 'keeper': ...</td>\n",
       "      <td>False</td>\n",
       "      <td>True</td>\n",
       "      <td>False</td>\n",
       "    </tr>\n",
       "    <tr>\n",
       "      <th>4</th>\n",
       "      <td>4</td>\n",
       "      <td>38033.125</td>\n",
       "      <td>38040.548225</td>\n",
       "      <td>Shot</td>\n",
       "      <td>0.894167</td>\n",
       "      <td>0.3800</td>\n",
       "      <td>0.934167</td>\n",
       "      <td>0.4075</td>\n",
       "      <td>False</td>\n",
       "      <td>False</td>\n",
       "      <td>[{'teammate': True, 'actor': False, 'keeper': ...</td>\n",
       "      <td>False</td>\n",
       "      <td>False</td>\n",
       "      <td>False</td>\n",
       "    </tr>\n",
       "  </tbody>\n",
       "</table>\n",
       "</div>"
      ],
      "text/plain": [
       "   Unnamed: 0  start_frame     end_frame event_type  origin_pos_x  \\\n",
       "0           0     3230.175   3249.033025       Shot      0.899167   \n",
       "1           1    14167.350  14185.561050       Shot      0.870833   \n",
       "2           2    15756.100  15780.660425       Shot      0.849167   \n",
       "3           3    20942.500  20985.413775       Shot      0.666667   \n",
       "4           4    38033.125  38040.548225       Shot      0.894167   \n",
       "\n",
       "   origin_pos_y  destination_pos_x  destination_pos_y  is_header  is_goal  \\\n",
       "0        0.6275           1.000000             0.5400      False    False   \n",
       "1        0.3775           0.977500             0.4850      False    False   \n",
       "2        0.3875           1.000000             0.4475      False    False   \n",
       "3        0.1825           0.964167             0.4975      False    False   \n",
       "4        0.3800           0.934167             0.4075      False    False   \n",
       "\n",
       "                                        freeze_frame  from_set_pieces  \\\n",
       "0  [{'teammate': True, 'actor': False, 'keeper': ...            False   \n",
       "1  [{'teammate': True, 'actor': False, 'keeper': ...            False   \n",
       "2  [{'teammate': True, 'actor': False, 'keeper': ...             True   \n",
       "3  [{'teammate': True, 'actor': False, 'keeper': ...            False   \n",
       "4  [{'teammate': True, 'actor': False, 'keeper': ...            False   \n",
       "\n",
       "   from_free_kick  from_penalty  \n",
       "0           False         False  \n",
       "1           False         False  \n",
       "2           False         False  \n",
       "3            True         False  \n",
       "4           False         False  "
      ]
     },
     "execution_count": 43,
     "metadata": {},
     "output_type": "execute_result"
    }
   ],
   "source": [
    "import pandas as pd\n",
    "data = pd.read_csv('/Users/gianluigiboniglia/Downloads/df_shots.csv')\n",
    "df_shots = pd.DataFrame(data)\n",
    "df_shots.head()"
   ]
  },
  {
   "cell_type": "code",
   "execution_count": 44,
   "id": "F0nMToXx1N0x",
   "metadata": {
    "id": "F0nMToXx1N0x"
   },
   "outputs": [],
   "source": [
    "df_shots[\"is_goal\"] = df_shots[\"is_goal\"].astype(int)\n",
    "df_shots[\"is_header\"] = df_shots[\"is_header\"].astype(int)\n",
    "df_shots[\"from_set_pieces\"] = df_shots[\"from_set_pieces\"].astype(int)\n",
    "df_shots[\"from_free_kick\"] = df_shots[\"from_free_kick\"].astype(int)\n",
    "df_shots[\"from_penalty\"] = df_shots[\"from_penalty\"].astype(int)"
   ]
  },
  {
   "cell_type": "code",
   "execution_count": 45,
   "id": "qVttFr3w3c0h",
   "metadata": {
    "id": "qVttFr3w3c0h"
   },
   "outputs": [],
   "source": [
    "import numpy as np\n",
    "\n",
    "def opponents_in_penalty_area(shot_row):\n",
    "    # Define the limits of the penalty area\n",
    "    penalty_area_limits = {\n",
    "        'x_min': 0.838,\n",
    "        'x_max': 1.0,\n",
    "        'y_min': 0.285,\n",
    "        'y_max': 0.715\n",
    "    }\n",
    "\n",
    "    # Count the number of opponents inside the penalty area\n",
    "    opponents_inside = sum(\n",
    "        1 for player in eval(shot_row.freeze_frame)  # Iterate through each player in the freeze frame\n",
    "        if (penalty_area_limits['x_min'] <= player['location'][0] <= penalty_area_limits['x_max'] and\n",
    "            penalty_area_limits['y_min'] <= player['location'][1] <= penalty_area_limits['y_max'] and\n",
    "            not player['teammate'])  # Check if the player is an opponent\n",
    "    )\n",
    "\n",
    "    return opponents_inside  \n",
    "\n",
    "\n",
    "df_shots['opponents_in_penalty_area'] = df_shots.apply(opponents_in_penalty_area, axis=1)"
   ]
  },
  {
   "cell_type": "code",
   "execution_count": 46,
   "id": "dX-nW7fk2CAW",
   "metadata": {
    "id": "dX-nW7fk2CAW"
   },
   "outputs": [],
   "source": [
    "def players_between_ball_and_keeper(shot_row):\n",
    "    penalty_area_limits = {\n",
    "        'x_min': 0.838,\n",
    "        'x_max': 1.0,\n",
    "        'y_min': 0.285,\n",
    "        'y_max': 0.715\n",
    "    }\n",
    "    \n",
    "    shooter_location = None\n",
    "    keeper_location = None\n",
    "\n",
    "    # Find the position of the ball carrier and the goalkeeper\n",
    "    for player in eval(shot_row.freeze_frame):\n",
    "        if player['actor']:  # If the player is the ball carrier\n",
    "            shooter_location = player['location']\n",
    "        elif player['keeper']:  # If the player is the goalkeeper\n",
    "            keeper_location = player['location']\n",
    "\n",
    "    # If either the shooter or the goalkeeper is not found, return 0\n",
    "    if shooter_location is None or keeper_location is None:\n",
    "        return 0  \n",
    "\n",
    "    # Extract the x-coordinates of the shooter and the goalkeeper\n",
    "    shooter_x = shooter_location[0]\n",
    "    keeper_x = keeper_location[0]\n",
    "\n",
    "    # Count the number of players (including teammates and opponents) between the shooter and the goalkeeper\n",
    "    players_inside = sum(\n",
    "        1 for player in eval(shot_row.freeze_frame)\n",
    "        if (penalty_area_limits['x_min'] <= player['location'][0] <= penalty_area_limits['x_max'] and\n",
    "            penalty_area_limits['y_min'] <= player['location'][1] <= penalty_area_limits['y_max'] and\n",
    "            ((shooter_x < keeper_x and player['location'][0] > shooter_x and player['location'][0] < keeper_x) or\n",
    "             (shooter_x > keeper_x and player['location'][0] < shooter_x and player['location'][0] > keeper_x)))  # Check if the player is between the shooter and the goalkeeper\n",
    "    )\n",
    "\n",
    "    return players_inside  # Return the count of players between the ball and the goalkeeper\n",
    "\n",
    "# Apply the function to the DataFrame and create a new column for the count of players between the ball and the goalkeeper\n",
    "df_shots['players_between_ball_and_keeper'] = df_shots.apply(players_between_ball_and_keeper, axis=1)"
   ]
  },
  {
   "cell_type": "code",
   "execution_count": 47,
   "id": "mlMfTCg-3HCV",
   "metadata": {
    "id": "mlMfTCg-3HCV"
   },
   "outputs": [],
   "source": [
    "def distance_to_keeper(shot_row, pitch_dim):\n",
    "    shooter_location = None\n",
    "    keeper_location = None\n",
    "\n",
    "    # Iterate through players in the freeze frame to find positions\n",
    "    for player in eval(shot_row.freeze_frame):\n",
    "        if player['actor']:  # Identify the ball carrier\n",
    "            shooter_location = np.array(player['location']) * pitch_dim  # Convert location to pitch dimensions\n",
    "        elif not player['teammate'] and player['keeper']:  # Identify the opponent's goalkeeper\n",
    "            keeper_location = np.array(player['location']) * pitch_dim  # Convert location to pitch dimensions\n",
    "\n",
    "    # If both shooter and goalkeeper locations are found, calculate the distance\n",
    "    if shooter_location is not None and keeper_location is not None:\n",
    "        distance = np.linalg.norm(shooter_location - keeper_location)  # Calculate Euclidean distance\n",
    "        return distance\n",
    "    else:\n",
    "        return np.nan  # Return NaN if either location is not found\n",
    "\n",
    "# Define pitch dimensions\n",
    "pitch_dim = np.array([105, 68])\n",
    "\n",
    "# Apply the function to the DataFrame and create a new column for distance to the goalkeeper\n",
    "df_shots['distance_to_keeper'] = df_shots.apply(distance_to_keeper, axis=1, args=(pitch_dim,))"
   ]
  },
  {
   "cell_type": "code",
   "execution_count": 48,
   "id": "VYFFVJdz3NcV",
   "metadata": {
    "id": "VYFFVJdz3NcV"
   },
   "outputs": [],
   "source": [
    "def opponents_within_3m(shot_row, pitch_dim):\n",
    "    shooter_location = None\n",
    "    num_opponents_within_3m = 0  # Initialize the counter for opponents within 3 meters\n",
    "\n",
    "    # Find the position of the ball carrier (shooter)\n",
    "    for player in eval(shot_row.freeze_frame):\n",
    "        if player['actor']:  # Check if this player is the ball carrier\n",
    "            shooter_location = np.array(player['location']) * pitch_dim  # Convert location to pitch dimensions\n",
    "            break  # Exit the loop after finding the shooter\n",
    "\n",
    "    # If the shooter's location is found, check for opponents nearby\n",
    "    if shooter_location is not None:\n",
    "        for player in eval(shot_row.freeze_frame):\n",
    "            if not player['teammate'] and not player['keeper']:  # Check if the player is an opponent\n",
    "                opponent_location = np.array(player['location']) * pitch_dim  # Convert opponent's location to pitch dimensions\n",
    "                distance = np.linalg.norm(shooter_location - opponent_location)  # Calculate the distance\n",
    "\n",
    "                # Increment the counter if the opponent is within 3 meters of the shooter\n",
    "                if distance <= 3:\n",
    "                    num_opponents_within_3m += 1\n",
    "\n",
    "    return num_opponents_within_3m  # Return the count of opponents within 3 meters\n",
    "\n",
    "# Define pitch dimensions\n",
    "pitch_dim = np.array([105, 68])\n",
    "\n",
    "# Apply the function to the DataFrame and create a new column for the count of opponents within 3 meters\n",
    "df_shots['opponents_within_3m'] = df_shots.apply(opponents_within_3m, axis=1, args=(pitch_dim,))"
   ]
  },
  {
   "cell_type": "code",
   "execution_count": 49,
   "id": "Asp7WBQy4En-",
   "metadata": {
    "id": "Asp7WBQy4En-"
   },
   "outputs": [],
   "source": [
    "def distance_to_nearest_player(shot_row, pitch_dim):\n",
    "    shooter_location = None\n",
    "    min_distance = np.inf  # Initialize the minimum distance to infinity\n",
    "\n",
    "    # Find the position of the ball carrier (shooter)\n",
    "    for player in eval(shot_row.freeze_frame):\n",
    "        if player['actor']:  # Check if this player is the ball carrier\n",
    "            shooter_location = np.array(player['location']) * pitch_dim  # Convert location to pitch dimensions\n",
    "            break  # Exit the loop after finding the shooter\n",
    "\n",
    "    # If the shooter's location is found, calculate distances to other players\n",
    "    if shooter_location is not None:\n",
    "        for player in eval(shot_row.freeze_frame):\n",
    "            if player['actor']:  # Skip the ball carrier when measuring distance\n",
    "                continue\n",
    "            player_location = np.array(player['location']) * pitch_dim  # Convert the location of the other player to pitch dimensions\n",
    "            distance = np.linalg.norm(shooter_location - player_location)  # Calculate the Euclidean distance\n",
    "\n",
    "            # Update min_distance if a new minimum is found\n",
    "            if distance < min_distance:\n",
    "                min_distance = distance\n",
    "\n",
    "    return min_distance  # Return the minimum distance to the nearest player\n",
    "\n",
    "# Define pitch dimensions\n",
    "pitch_dim = np.array([105, 68])\n",
    "\n",
    "# Apply the function to the DataFrame and create a new column for the distance to the nearest player\n",
    "df_shots['distance_to_nearest_player'] = df_shots.apply(distance_to_nearest_player, axis=1, args=(pitch_dim,))\n"
   ]
  },
  {
   "cell_type": "code",
   "execution_count": 50,
   "id": "9aa952df",
   "metadata": {},
   "outputs": [
    {
     "data": {
      "text/html": [
       "<div>\n",
       "<style scoped>\n",
       "    .dataframe tbody tr th:only-of-type {\n",
       "        vertical-align: middle;\n",
       "    }\n",
       "\n",
       "    .dataframe tbody tr th {\n",
       "        vertical-align: top;\n",
       "    }\n",
       "\n",
       "    .dataframe thead th {\n",
       "        text-align: right;\n",
       "    }\n",
       "</style>\n",
       "<table border=\"1\" class=\"dataframe\">\n",
       "  <thead>\n",
       "    <tr style=\"text-align: right;\">\n",
       "      <th></th>\n",
       "      <th>Unnamed: 0</th>\n",
       "      <th>start_frame</th>\n",
       "      <th>end_frame</th>\n",
       "      <th>event_type</th>\n",
       "      <th>origin_pos_x</th>\n",
       "      <th>origin_pos_y</th>\n",
       "      <th>destination_pos_x</th>\n",
       "      <th>destination_pos_y</th>\n",
       "      <th>is_header</th>\n",
       "      <th>is_goal</th>\n",
       "      <th>freeze_frame</th>\n",
       "      <th>from_set_pieces</th>\n",
       "      <th>from_free_kick</th>\n",
       "      <th>from_penalty</th>\n",
       "      <th>opponents_in_penalty_area</th>\n",
       "      <th>players_between_ball_and_keeper</th>\n",
       "      <th>distance_to_keeper</th>\n",
       "      <th>opponents_within_3m</th>\n",
       "      <th>distance_to_nearest_player</th>\n",
       "    </tr>\n",
       "  </thead>\n",
       "  <tbody>\n",
       "    <tr>\n",
       "      <th>0</th>\n",
       "      <td>0</td>\n",
       "      <td>3230.175</td>\n",
       "      <td>3249.033025</td>\n",
       "      <td>Shot</td>\n",
       "      <td>0.899167</td>\n",
       "      <td>0.6275</td>\n",
       "      <td>1.000000</td>\n",
       "      <td>0.5400</td>\n",
       "      <td>0</td>\n",
       "      <td>0</td>\n",
       "      <td>[{'teammate': True, 'actor': False, 'keeper': ...</td>\n",
       "      <td>0</td>\n",
       "      <td>0</td>\n",
       "      <td>0</td>\n",
       "      <td>6</td>\n",
       "      <td>2</td>\n",
       "      <td>8.850972</td>\n",
       "      <td>1</td>\n",
       "      <td>1.951065</td>\n",
       "    </tr>\n",
       "    <tr>\n",
       "      <th>1</th>\n",
       "      <td>1</td>\n",
       "      <td>14167.350</td>\n",
       "      <td>14185.561050</td>\n",
       "      <td>Shot</td>\n",
       "      <td>0.870833</td>\n",
       "      <td>0.3775</td>\n",
       "      <td>0.977500</td>\n",
       "      <td>0.4850</td>\n",
       "      <td>0</td>\n",
       "      <td>0</td>\n",
       "      <td>[{'teammate': True, 'actor': False, 'keeper': ...</td>\n",
       "      <td>0</td>\n",
       "      <td>0</td>\n",
       "      <td>0</td>\n",
       "      <td>7</td>\n",
       "      <td>4</td>\n",
       "      <td>13.224295</td>\n",
       "      <td>0</td>\n",
       "      <td>3.143462</td>\n",
       "    </tr>\n",
       "    <tr>\n",
       "      <th>2</th>\n",
       "      <td>2</td>\n",
       "      <td>15756.100</td>\n",
       "      <td>15780.660425</td>\n",
       "      <td>Shot</td>\n",
       "      <td>0.849167</td>\n",
       "      <td>0.3875</td>\n",
       "      <td>1.000000</td>\n",
       "      <td>0.4475</td>\n",
       "      <td>0</td>\n",
       "      <td>0</td>\n",
       "      <td>[{'teammate': True, 'actor': False, 'keeper': ...</td>\n",
       "      <td>1</td>\n",
       "      <td>0</td>\n",
       "      <td>0</td>\n",
       "      <td>6</td>\n",
       "      <td>7</td>\n",
       "      <td>14.943732</td>\n",
       "      <td>1</td>\n",
       "      <td>2.262193</td>\n",
       "    </tr>\n",
       "    <tr>\n",
       "      <th>3</th>\n",
       "      <td>3</td>\n",
       "      <td>20942.500</td>\n",
       "      <td>20985.413775</td>\n",
       "      <td>Shot</td>\n",
       "      <td>0.666667</td>\n",
       "      <td>0.1825</td>\n",
       "      <td>0.964167</td>\n",
       "      <td>0.4975</td>\n",
       "      <td>0</td>\n",
       "      <td>0</td>\n",
       "      <td>[{'teammate': True, 'actor': False, 'keeper': ...</td>\n",
       "      <td>0</td>\n",
       "      <td>1</td>\n",
       "      <td>0</td>\n",
       "      <td>1</td>\n",
       "      <td>0</td>\n",
       "      <td>43.484123</td>\n",
       "      <td>0</td>\n",
       "      <td>9.375363</td>\n",
       "    </tr>\n",
       "    <tr>\n",
       "      <th>4</th>\n",
       "      <td>4</td>\n",
       "      <td>38033.125</td>\n",
       "      <td>38040.548225</td>\n",
       "      <td>Shot</td>\n",
       "      <td>0.894167</td>\n",
       "      <td>0.3800</td>\n",
       "      <td>0.934167</td>\n",
       "      <td>0.4075</td>\n",
       "      <td>0</td>\n",
       "      <td>0</td>\n",
       "      <td>[{'teammate': True, 'actor': False, 'keeper': ...</td>\n",
       "      <td>0</td>\n",
       "      <td>0</td>\n",
       "      <td>0</td>\n",
       "      <td>9</td>\n",
       "      <td>10</td>\n",
       "      <td>10.131416</td>\n",
       "      <td>2</td>\n",
       "      <td>1.219023</td>\n",
       "    </tr>\n",
       "  </tbody>\n",
       "</table>\n",
       "</div>"
      ],
      "text/plain": [
       "   Unnamed: 0  start_frame     end_frame event_type  origin_pos_x  \\\n",
       "0           0     3230.175   3249.033025       Shot      0.899167   \n",
       "1           1    14167.350  14185.561050       Shot      0.870833   \n",
       "2           2    15756.100  15780.660425       Shot      0.849167   \n",
       "3           3    20942.500  20985.413775       Shot      0.666667   \n",
       "4           4    38033.125  38040.548225       Shot      0.894167   \n",
       "\n",
       "   origin_pos_y  destination_pos_x  destination_pos_y  is_header  is_goal  \\\n",
       "0        0.6275           1.000000             0.5400          0        0   \n",
       "1        0.3775           0.977500             0.4850          0        0   \n",
       "2        0.3875           1.000000             0.4475          0        0   \n",
       "3        0.1825           0.964167             0.4975          0        0   \n",
       "4        0.3800           0.934167             0.4075          0        0   \n",
       "\n",
       "                                        freeze_frame  from_set_pieces  \\\n",
       "0  [{'teammate': True, 'actor': False, 'keeper': ...                0   \n",
       "1  [{'teammate': True, 'actor': False, 'keeper': ...                0   \n",
       "2  [{'teammate': True, 'actor': False, 'keeper': ...                1   \n",
       "3  [{'teammate': True, 'actor': False, 'keeper': ...                0   \n",
       "4  [{'teammate': True, 'actor': False, 'keeper': ...                0   \n",
       "\n",
       "   from_free_kick  from_penalty  opponents_in_penalty_area  \\\n",
       "0               0             0                          6   \n",
       "1               0             0                          7   \n",
       "2               0             0                          6   \n",
       "3               1             0                          1   \n",
       "4               0             0                          9   \n",
       "\n",
       "   players_between_ball_and_keeper  distance_to_keeper  opponents_within_3m  \\\n",
       "0                                2            8.850972                    1   \n",
       "1                                4           13.224295                    0   \n",
       "2                                7           14.943732                    1   \n",
       "3                                0           43.484123                    0   \n",
       "4                               10           10.131416                    2   \n",
       "\n",
       "   distance_to_nearest_player  \n",
       "0                    1.951065  \n",
       "1                    3.143462  \n",
       "2                    2.262193  \n",
       "3                    9.375363  \n",
       "4                    1.219023  "
      ]
     },
     "execution_count": 50,
     "metadata": {},
     "output_type": "execute_result"
    }
   ],
   "source": [
    "df_shots.head()"
   ]
  },
  {
   "cell_type": "markdown",
   "id": "2426b9f8-33ae-4347-b9d7-15192550b18d",
   "metadata": {
    "id": "2426b9f8-33ae-4347-b9d7-15192550b18d"
   },
   "source": [
    "#### **3. Build a model with the constructed features (plus the two initially given features), build the Calibration plot and the ROC Curve and compare your model with the three previous ones. (3 points)**"
   ]
  },
  {
   "cell_type": "code",
   "execution_count": 51,
   "id": "9bc823f8",
   "metadata": {},
   "outputs": [],
   "source": [
    "from sklearn.calibration import calibration_curve\n",
    "import sklearn.metrics as metrics\n",
    "from sklearn.preprocessing import StandardScaler\n",
    "from sklearn.model_selection import train_test_split\n",
    "from sklearn.linear_model import LogisticRegression\n",
    "from sklearn.impute import SimpleImputer"
   ]
  },
  {
   "cell_type": "code",
   "execution_count": 65,
   "id": "ee706ec7",
   "metadata": {},
   "outputs": [],
   "source": [
    "# Select features and target\n",
    "X3 = df_shots[['distance_to_goal', 'angle_to_goal', 'distance_to_keeper', 'players_between_ball_and_keeper',\n",
    "                'distance_to_nearest_player', 'opponents_within_3m',\n",
    "                'opponents_in_penalty_area', 'is_header', 'from_set_pieces', 'from_free_kick', 'from_penalty']]\n",
    "y3 = df_shots.is_goal\n",
    "y = df_shots.is_goal\n",
    "\n",
    "# Imputation of missing values\n",
    "imputer = SimpleImputer(strategy='mean')\n",
    "X3 = imputer.fit_transform(X3)\n",
    "\n",
    "# Scale the data\n",
    "scaler = StandardScaler()\n",
    "X3 = scaler.fit_transform(X3)\n",
    "\n",
    "# Split the dataset\n",
    "X_train3, X_test3, y_train3, y_test3 = train_test_split(X3, y3, test_size=0.3, random_state=1, stratify=y)\n",
    "\n",
    "# Train the model\n",
    "clf3 = LogisticRegression(random_state=0, class_weight={1:1.3, 0:1}, max_iter=400).fit(X_train3, y_train3)\n",
    "\n",
    "# Predict probabilities\n",
    "y_pred3 = clf3.predict_proba(X_test3)"
   ]
  },
  {
   "cell_type": "code",
   "execution_count": 66,
   "id": "5crcHiwDCskk",
   "metadata": {
    "colab": {
     "base_uri": "https://localhost:8080/",
     "height": 207
    },
    "id": "5crcHiwDCskk",
    "outputId": "1441b32d-3533-4a8b-fa1a-e34d3a3824b5"
   },
   "outputs": [
    {
     "data": {
      "image/png": "[encoded data removed]",
      "text/plain": [
       "<Figure size 432x288 with 1 Axes>"
      ]
     },
     "metadata": {
      "needs_background": "light"
     },
     "output_type": "display_data"
    }
   ],
   "source": [
    "x_c3, y_c3 = calibration_curve(y_test3, y_pred3[:,1], n_bins=15)\n",
    "plt.plot([0, 1], [0, 1], 'r--', label = 'Ideally Calibrated')\n",
    "plt.plot(y_c3, x_c3, marker = '.', color='b', label = 'Model v3')\n",
    "\n",
    "plt.plot([])\n",
    "\n",
    "leg = plt.legend(loc = 'upper left')\n",
    "plt.xlabel('Average Predicted Probability in each bin')\n",
    "plt.ylabel('Ratio of positives')\n",
    "plt.show()"
   ]
  },
  {
   "cell_type": "code",
   "execution_count": 62,
   "id": "IRItBn5PDRjg",
   "metadata": {
    "colab": {
     "base_uri": "https://localhost:8080/",
     "height": 472
    },
    "id": "IRItBn5PDRjg",
    "outputId": "e446a3d8-ad50-44ff-921e-7f3fdd975814"
   },
   "outputs": [
    {
     "data": {
      "image/png": "[encoded data removed]",
      "text/plain": [
       "<Figure size 432x288 with 1 Axes>"
      ]
     },
     "metadata": {
      "needs_background": "light"
     },
     "output_type": "display_data"
    }
   ],
   "source": [
    "fpr3, tpr3, threshold = metrics.roc_curve(y_test3, y_pred3[:,1])\n",
    "roc_auc3 = metrics.auc(fpr3, tpr3)\n",
    "\n",
    "plt.title('Receiver Operating Characteristic')\n",
    "plt.plot(fpr3, tpr3, 'b', label = 'AUC = %0.2f' % roc_auc3)\n",
    "plt.legend(loc = 'lower right')\n",
    "plt.plot([0, 1], [0, 1],'r--')\n",
    "plt.xlim([0, 1])\n",
    "plt.ylim([0, 1])\n",
    "plt.ylabel('True Positive Rate')\n",
    "plt.xlabel('False Positive Rate')\n",
    "plt.show()"
   ]
  },
  {
   "cell_type": "code",
   "execution_count": 63,
   "id": "G2K2X4r9DhVY",
   "metadata": {
    "colab": {
     "base_uri": "https://localhost:8080/",
     "height": 449
    },
    "id": "G2K2X4r9DhVY",
    "outputId": "26ad5051-f187-4999-f34a-c31209bb05b9"
   },
   "outputs": [
    {
     "data": {
      "image/png": "[encoded data removed]",
      "text/plain": [
       "<Figure size 432x288 with 1 Axes>"
      ]
     },
     "metadata": {
      "needs_background": "light"
     },
     "output_type": "display_data"
    }
   ],
   "source": [
    "plt.plot([0, 1], [0, 1], 'r--', label = 'Ideally Calibrated')\n",
    "plt.plot(y_c3, x_c3, marker = '.', color='b', label = 'Model v3')\n",
    "plt.plot(y_c2, x_c2, marker = '.', color='orange', label = 'Model v2')\n",
    "plt.plot(y_c, x_c, marker = '.', color='green', label = 'Model v1')\n",
    "\n",
    "plt.plot([])\n",
    "\n",
    "leg = plt.legend(loc = 'upper left')\n",
    "plt.xlabel('Average Predicted Probability in each bin')\n",
    "plt.ylabel('Ratio of positives')\n",
    "plt.show()"
   ]
  },
  {
   "cell_type": "code",
   "execution_count": 64,
   "id": "FarMPq_iEKvc",
   "metadata": {
    "colab": {
     "base_uri": "https://localhost:8080/",
     "height": 472
    },
    "id": "FarMPq_iEKvc",
    "outputId": "14ad06de-7bf3-4340-ce0b-98ef3df77d19"
   },
   "outputs": [
    {
     "data": {
      "image/png": "[encoded data removed]",
      "text/plain": [
       "<Figure size 432x288 with 1 Axes>"
      ]
     },
     "metadata": {
      "needs_background": "light"
     },
     "output_type": "display_data"
    }
   ],
   "source": [
    "plt.title('Receiver Operating Characteristic')\n",
    "plt.plot(fpr3, tpr3, 'b', label = 'AUC Model v3 = %0.2f' % roc_auc3)\n",
    "plt.plot(fpr2, tpr2, 'orange', label = 'AUC Model v2 = %0.2f' % roc_auc2)\n",
    "plt.plot(fpr, tpr, 'green', label = 'AUC Model v1 = %0.2f' % roc_auc)\n",
    "plt.legend(loc = 'lower right')\n",
    "plt.plot([0, 1], [0, 1],'r--')\n",
    "plt.xlim([0, 1])\n",
    "plt.ylim([0, 1])\n",
    "plt.ylabel('True Positive Rate')\n",
    "plt.xlabel('False Positive Rate')\n",
    "plt.show()"
   ]
  }
 ],
 "metadata": {
  "colab": {
   "provenance": []
  },
  "kernelspec": {
   "display_name": "Python 3 (ipykernel)",
   "language": "python",
   "name": "python3"
  },
  "language_info": {
   "codemirror_mode": {
    "name": "ipython",
    "version": 3
   },
   "file_extension": ".py",
   "mimetype": "text/x-python",
   "name": "python",
   "nbconvert_exporter": "python",
   "pygments_lexer": "ipython3",
   "version": "3.9.7"
  },
  "widgets": {
   "application/vnd.jupyter.widget-state+json": {
    "036237889e074d07804fd16358d7a0ab": {
     "model_module": "@jupyter-widgets/controls",
     "model_module_version": "1.5.0",
     "model_name": "HBoxModel",
     "state": {
      "_dom_classes": [],
      "_model_module": "@jupyter-widgets/controls",
      "_model_module_version": "1.5.0",
      "_model_name": "HBoxModel",
      "_view_count": null,
      "_view_module": "@jupyter-widgets/controls",
      "_view_module_version": "1.5.0",
      "_view_name": "HBoxView",
      "box_style": "",
      "children": [
       "IPY_MODEL_7215481161c04e5483e32586251c5bf4",
       "IPY_MODEL_6b0f83a90906487b9b0efc8881662a71",
       "IPY_MODEL_81ff5487c0324718bc8e2ec2f69cf012"
      ],
      "layout": "IPY_MODEL_646b83b9c18b448da958a785c50ee8ee"
     }
    },
    "06f88d2790e248d7b73c22421b9f44e2": {
     "model_module": "@jupyter-widgets/base",
     "model_module_version": "1.2.0",
     "model_name": "LayoutModel",
     "state": {
      "_model_module": "@jupyter-widgets/base",
      "_model_module_version": "1.2.0",
      "_model_name": "LayoutModel",
      "_view_count": null,
      "_view_module": "@jupyter-widgets/base",
      "_view_module_version": "1.2.0",
      "_view_name": "LayoutView",
      "align_content": null,
      "align_items": null,
      "align_self": null,
      "border": null,
      "bottom": null,
      "display": null,
      "flex": null,
      "flex_flow": null,
      "grid_area": null,
      "grid_auto_columns": null,
      "grid_auto_flow": null,
      "grid_auto_rows": null,
      "grid_column": null,
      "grid_gap": null,
      "grid_row": null,
      "grid_template_areas": null,
      "grid_template_columns": null,
      "grid_template_rows": null,
      "height": null,
      "justify_content": null,
      "justify_items": null,
      "left": null,
      "margin": null,
      "max_height": null,
      "max_width": null,
      "min_height": null,
      "min_width": null,
      "object_fit": null,
      "object_position": null,
      "order": null,
      "overflow": null,
      "overflow_x": null,
      "overflow_y": null,
      "padding": null,
      "right": null,
      "top": null,
      "visibility": null,
      "width": null
     }
    },
    "144ae28dc64a45a6989fc24f6bf9181d": {
     "model_module": "@jupyter-widgets/base",
     "model_module_version": "1.2.0",
     "model_name": "LayoutModel",
     "state": {
      "_model_module": "@jupyter-widgets/base",
      "_model_module_version": "1.2.0",
      "_model_name": "LayoutModel",
      "_view_count": null,
      "_view_module": "@jupyter-widgets/base",
      "_view_module_version": "1.2.0",
      "_view_name": "LayoutView",
      "align_content": null,
      "align_items": null,
      "align_self": null,
      "border": null,
      "bottom": null,
      "display": null,
      "flex": null,
      "flex_flow": null,
      "grid_area": null,
      "grid_auto_columns": null,
      "grid_auto_flow": null,
      "grid_auto_rows": null,
      "grid_column": null,
      "grid_gap": null,
      "grid_row": null,
      "grid_template_areas": null,
      "grid_template_columns": null,
      "grid_template_rows": null,
      "height": null,
      "justify_content": null,
      "justify_items": null,
      "left": null,
      "margin": null,
      "max_height": null,
      "max_width": null,
      "min_height": null,
      "min_width": null,
      "object_fit": null,
      "object_position": null,
      "order": null,
      "overflow": null,
      "overflow_x": null,
      "overflow_y": null,
      "padding": null,
      "right": null,
      "top": null,
      "visibility": null,
      "width": null
     }
    },
    "2800cb9694954fdb983d7fa6897feef3": {
     "model_module": "@jupyter-widgets/controls",
     "model_module_version": "1.5.0",
     "model_name": "DescriptionStyleModel",
     "state": {
      "_model_module": "@jupyter-widgets/controls",
      "_model_module_version": "1.5.0",
      "_model_name": "DescriptionStyleModel",
      "_view_count": null,
      "_view_module": "@jupyter-widgets/base",
      "_view_module_version": "1.2.0",
      "_view_name": "StyleView",
      "description_width": ""
     }
    },
    "28106880e29c4e868cf8419b87515c1a": {
     "model_module": "@jupyter-widgets/controls",
     "model_module_version": "1.5.0",
     "model_name": "FloatProgressModel",
     "state": {
      "_dom_classes": [],
      "_model_module": "@jupyter-widgets/controls",
      "_model_module_version": "1.5.0",
      "_model_name": "FloatProgressModel",
      "_view_count": null,
      "_view_module": "@jupyter-widgets/controls",
      "_view_module_version": "1.5.0",
      "_view_name": "ProgressView",
      "bar_style": "success",
      "description": "",
      "description_tooltip": null,
      "layout": "IPY_MODEL_c8952d9129954cce87a8e0c467d82de2",
      "max": 50,
      "min": 0,
      "orientation": "horizontal",
      "style": "IPY_MODEL_9e5121b9b957493099e395967be62edd",
      "value": 50
     }
    },
    "593aa1d560af4feaa679b37994ebc9b9": {
     "model_module": "@jupyter-widgets/controls",
     "model_module_version": "1.5.0",
     "model_name": "DescriptionStyleModel",
     "state": {
      "_model_module": "@jupyter-widgets/controls",
      "_model_module_version": "1.5.0",
      "_model_name": "DescriptionStyleModel",
      "_view_count": null,
      "_view_module": "@jupyter-widgets/base",
      "_view_module_version": "1.2.0",
      "_view_name": "StyleView",
      "description_width": ""
     }
    },
    "5db57f6141d84092aa6b3978db32bc11": {
     "model_module": "@jupyter-widgets/controls",
     "model_module_version": "1.5.0",
     "model_name": "HBoxModel",
     "state": {
      "_dom_classes": [],
      "_model_module": "@jupyter-widgets/controls",
      "_model_module_version": "1.5.0",
      "_model_name": "HBoxModel",
      "_view_count": null,
      "_view_module": "@jupyter-widgets/controls",
      "_view_module_version": "1.5.0",
      "_view_name": "HBoxView",
      "box_style": "",
      "children": [
       "IPY_MODEL_ffecc554a78546cebfcdd0866270a124",
       "IPY_MODEL_28106880e29c4e868cf8419b87515c1a",
       "IPY_MODEL_9c46083bb77f424eab2f1435ddcd3849"
      ],
      "layout": "IPY_MODEL_ae1d0a1449484e31b97ce3e804ea96ce"
     }
    },
    "646b83b9c18b448da958a785c50ee8ee": {
     "model_module": "@jupyter-widgets/base",
     "model_module_version": "1.2.0",
     "model_name": "LayoutModel",
     "state": {
      "_model_module": "@jupyter-widgets/base",
      "_model_module_version": "1.2.0",
      "_model_name": "LayoutModel",
      "_view_count": null,
      "_view_module": "@jupyter-widgets/base",
      "_view_module_version": "1.2.0",
      "_view_name": "LayoutView",
      "align_content": null,
      "align_items": null,
      "align_self": null,
      "border": null,
      "bottom": null,
      "display": null,
      "flex": null,
      "flex_flow": null,
      "grid_area": null,
      "grid_auto_columns": null,
      "grid_auto_flow": null,
      "grid_auto_rows": null,
      "grid_column": null,
      "grid_gap": null,
      "grid_row": null,
      "grid_template_areas": null,
      "grid_template_columns": null,
      "grid_template_rows": null,
      "height": null,
      "justify_content": null,
      "justify_items": null,
      "left": null,
      "margin": null,
      "max_height": null,
      "max_width": null,
      "min_height": null,
      "min_width": null,
      "object_fit": null,
      "object_position": null,
      "order": null,
      "overflow": null,
      "overflow_x": null,
      "overflow_y": null,
      "padding": null,
      "right": null,
      "top": null,
      "visibility": null,
      "width": null
     }
    },
    "6b0f83a90906487b9b0efc8881662a71": {
     "model_module": "@jupyter-widgets/controls",
     "model_module_version": "1.5.0",
     "model_name": "FloatProgressModel",
     "state": {
      "_dom_classes": [],
      "_model_module": "@jupyter-widgets/controls",
      "_model_module_version": "1.5.0",
      "_model_name": "FloatProgressModel",
      "_view_count": null,
      "_view_module": "@jupyter-widgets/controls",
      "_view_module_version": "1.5.0",
      "_view_name": "ProgressView",
      "bar_style": "success",
      "description": "",
      "description_tooltip": null,
      "layout": "IPY_MODEL_06f88d2790e248d7b73c22421b9f44e2",
      "max": 50,
      "min": 0,
      "orientation": "horizontal",
      "style": "IPY_MODEL_d363e2a485264d609146d281865b8a38",
      "value": 50
     }
    },
    "7215481161c04e5483e32586251c5bf4": {
     "model_module": "@jupyter-widgets/controls",
     "model_module_version": "1.5.0",
     "model_name": "HTMLModel",
     "state": {
      "_dom_classes": [],
      "_model_module": "@jupyter-widgets/controls",
      "_model_module_version": "1.5.0",
      "_model_name": "HTMLModel",
      "_view_count": null,
      "_view_module": "@jupyter-widgets/controls",
      "_view_module_version": "1.5.0",
      "_view_name": "HTMLView",
      "description": "",
      "description_tooltip": null,
      "layout": "IPY_MODEL_bfd57d311c8147e19e8e56b78f120cfc",
      "placeholder": "​",
      "style": "IPY_MODEL_c9d7c696af3e46229b72a53313367e05",
      "value": "100%"
     }
    },
    "81ff5487c0324718bc8e2ec2f69cf012": {
     "model_module": "@jupyter-widgets/controls",
     "model_module_version": "1.5.0",
     "model_name": "HTMLModel",
     "state": {
      "_dom_classes": [],
      "_model_module": "@jupyter-widgets/controls",
      "_model_module_version": "1.5.0",
      "_model_name": "HTMLModel",
      "_view_count": null,
      "_view_module": "@jupyter-widgets/controls",
      "_view_module_version": "1.5.0",
      "_view_name": "HTMLView",
      "description": "",
      "description_tooltip": null,
      "layout": "IPY_MODEL_e8e4f971bfc3421185b7eeaaa5834125",
      "placeholder": "​",
      "style": "IPY_MODEL_2800cb9694954fdb983d7fa6897feef3",
      "value": " 50/50 [00:01&lt;00:00, 44.60it/s]"
     }
    },
    "8873f574056c480a9515deb707ba9085": {
     "model_module": "@jupyter-widgets/controls",
     "model_module_version": "1.5.0",
     "model_name": "DescriptionStyleModel",
     "state": {
      "_model_module": "@jupyter-widgets/controls",
      "_model_module_version": "1.5.0",
      "_model_name": "DescriptionStyleModel",
      "_view_count": null,
      "_view_module": "@jupyter-widgets/base",
      "_view_module_version": "1.2.0",
      "_view_name": "StyleView",
      "description_width": ""
     }
    },
    "9c46083bb77f424eab2f1435ddcd3849": {
     "model_module": "@jupyter-widgets/controls",
     "model_module_version": "1.5.0",
     "model_name": "HTMLModel",
     "state": {
      "_dom_classes": [],
      "_model_module": "@jupyter-widgets/controls",
      "_model_module_version": "1.5.0",
      "_model_name": "HTMLModel",
      "_view_count": null,
      "_view_module": "@jupyter-widgets/controls",
      "_view_module_version": "1.5.0",
      "_view_name": "HTMLView",
      "description": "",
      "description_tooltip": null,
      "layout": "IPY_MODEL_144ae28dc64a45a6989fc24f6bf9181d",
      "placeholder": "​",
      "style": "IPY_MODEL_8873f574056c480a9515deb707ba9085",
      "value": " 50/50 [00:01&lt;00:00, 45.24it/s]"
     }
    },
    "9e5121b9b957493099e395967be62edd": {
     "model_module": "@jupyter-widgets/controls",
     "model_module_version": "1.5.0",
     "model_name": "ProgressStyleModel",
     "state": {
      "_model_module": "@jupyter-widgets/controls",
      "_model_module_version": "1.5.0",
      "_model_name": "ProgressStyleModel",
      "_view_count": null,
      "_view_module": "@jupyter-widgets/base",
      "_view_module_version": "1.2.0",
      "_view_name": "StyleView",
      "bar_color": null,
      "description_width": ""
     }
    },
    "a29d8b477d8f4089bd1a0da3500a3cd8": {
     "model_module": "@jupyter-widgets/base",
     "model_module_version": "1.2.0",
     "model_name": "LayoutModel",
     "state": {
      "_model_module": "@jupyter-widgets/base",
      "_model_module_version": "1.2.0",
      "_model_name": "LayoutModel",
      "_view_count": null,
      "_view_module": "@jupyter-widgets/base",
      "_view_module_version": "1.2.0",
      "_view_name": "LayoutView",
      "align_content": null,
      "align_items": null,
      "align_self": null,
      "border": null,
      "bottom": null,
      "display": null,
      "flex": null,
      "flex_flow": null,
      "grid_area": null,
      "grid_auto_columns": null,
      "grid_auto_flow": null,
      "grid_auto_rows": null,
      "grid_column": null,
      "grid_gap": null,
      "grid_row": null,
      "grid_template_areas": null,
      "grid_template_columns": null,
      "grid_template_rows": null,
      "height": null,
      "justify_content": null,
      "justify_items": null,
      "left": null,
      "margin": null,
      "max_height": null,
      "max_width": null,
      "min_height": null,
      "min_width": null,
      "object_fit": null,
      "object_position": null,
      "order": null,
      "overflow": null,
      "overflow_x": null,
      "overflow_y": null,
      "padding": null,
      "right": null,
      "top": null,
      "visibility": null,
      "width": null
     }
    },
    "ae1d0a1449484e31b97ce3e804ea96ce": {
     "model_module": "@jupyter-widgets/base",
     "model_module_version": "1.2.0",
     "model_name": "LayoutModel",
     "state": {
      "_model_module": "@jupyter-widgets/base",
      "_model_module_version": "1.2.0",
      "_model_name": "LayoutModel",
      "_view_count": null,
      "_view_module": "@jupyter-widgets/base",
      "_view_module_version": "1.2.0",
      "_view_name": "LayoutView",
      "align_content": null,
      "align_items": null,
      "align_self": null,
      "border": null,
      "bottom": null,
      "display": null,
      "flex": null,
      "flex_flow": null,
      "grid_area": null,
      "grid_auto_columns": null,
      "grid_auto_flow": null,
      "grid_auto_rows": null,
      "grid_column": null,
      "grid_gap": null,
      "grid_row": null,
      "grid_template_areas": null,
      "grid_template_columns": null,
      "grid_template_rows": null,
      "height": null,
      "justify_content": null,
      "justify_items": null,
      "left": null,
      "margin": null,
      "max_height": null,
      "max_width": null,
      "min_height": null,
      "min_width": null,
      "object_fit": null,
      "object_position": null,
      "order": null,
      "overflow": null,
      "overflow_x": null,
      "overflow_y": null,
      "padding": null,
      "right": null,
      "top": null,
      "visibility": null,
      "width": null
     }
    },
    "bfd57d311c8147e19e8e56b78f120cfc": {
     "model_module": "@jupyter-widgets/base",
     "model_module_version": "1.2.0",
     "model_name": "LayoutModel",
     "state": {
      "_model_module": "@jupyter-widgets/base",
      "_model_module_version": "1.2.0",
      "_model_name": "LayoutModel",
      "_view_count": null,
      "_view_module": "@jupyter-widgets/base",
      "_view_module_version": "1.2.0",
      "_view_name": "LayoutView",
      "align_content": null,
      "align_items": null,
      "align_self": null,
      "border": null,
      "bottom": null,
      "display": null,
      "flex": null,
      "flex_flow": null,
      "grid_area": null,
      "grid_auto_columns": null,
      "grid_auto_flow": null,
      "grid_auto_rows": null,
      "grid_column": null,
      "grid_gap": null,
      "grid_row": null,
      "grid_template_areas": null,
      "grid_template_columns": null,
      "grid_template_rows": null,
      "height": null,
      "justify_content": null,
      "justify_items": null,
      "left": null,
      "margin": null,
      "max_height": null,
      "max_width": null,
      "min_height": null,
      "min_width": null,
      "object_fit": null,
      "object_position": null,
      "order": null,
      "overflow": null,
      "overflow_x": null,
      "overflow_y": null,
      "padding": null,
      "right": null,
      "top": null,
      "visibility": null,
      "width": null
     }
    },
    "c8952d9129954cce87a8e0c467d82de2": {
     "model_module": "@jupyter-widgets/base",
     "model_module_version": "1.2.0",
     "model_name": "LayoutModel",
     "state": {
      "_model_module": "@jupyter-widgets/base",
      "_model_module_version": "1.2.0",
      "_model_name": "LayoutModel",
      "_view_count": null,
      "_view_module": "@jupyter-widgets/base",
      "_view_module_version": "1.2.0",
      "_view_name": "LayoutView",
      "align_content": null,
      "align_items": null,
      "align_self": null,
      "border": null,
      "bottom": null,
      "display": null,
      "flex": null,
      "flex_flow": null,
      "grid_area": null,
      "grid_auto_columns": null,
      "grid_auto_flow": null,
      "grid_auto_rows": null,
      "grid_column": null,
      "grid_gap": null,
      "grid_row": null,
      "grid_template_areas": null,
      "grid_template_columns": null,
      "grid_template_rows": null,
      "height": null,
      "justify_content": null,
      "justify_items": null,
      "left": null,
      "margin": null,
      "max_height": null,
      "max_width": null,
      "min_height": null,
      "min_width": null,
      "object_fit": null,
      "object_position": null,
      "order": null,
      "overflow": null,
      "overflow_x": null,
      "overflow_y": null,
      "padding": null,
      "right": null,
      "top": null,
      "visibility": null,
      "width": null
     }
    },
    "c9d7c696af3e46229b72a53313367e05": {
     "model_module": "@jupyter-widgets/controls",
     "model_module_version": "1.5.0",
     "model_name": "DescriptionStyleModel",
     "state": {
      "_model_module": "@jupyter-widgets/controls",
      "_model_module_version": "1.5.0",
      "_model_name": "DescriptionStyleModel",
      "_view_count": null,
      "_view_module": "@jupyter-widgets/base",
      "_view_module_version": "1.2.0",
      "_view_name": "StyleView",
      "description_width": ""
     }
    },
    "d363e2a485264d609146d281865b8a38": {
     "model_module": "@jupyter-widgets/controls",
     "model_module_version": "1.5.0",
     "model_name": "ProgressStyleModel",
     "state": {
      "_model_module": "@jupyter-widgets/controls",
      "_model_module_version": "1.5.0",
      "_model_name": "ProgressStyleModel",
      "_view_count": null,
      "_view_module": "@jupyter-widgets/base",
      "_view_module_version": "1.2.0",
      "_view_name": "StyleView",
      "bar_color": null,
      "description_width": ""
     }
    },
    "e8e4f971bfc3421185b7eeaaa5834125": {
     "model_module": "@jupyter-widgets/base",
     "model_module_version": "1.2.0",
     "model_name": "LayoutModel",
     "state": {
      "_model_module": "@jupyter-widgets/base",
      "_model_module_version": "1.2.0",
      "_model_name": "LayoutModel",
      "_view_count": null,
      "_view_module": "@jupyter-widgets/base",
      "_view_module_version": "1.2.0",
      "_view_name": "LayoutView",
      "align_content": null,
      "align_items": null,
      "align_self": null,
      "border": null,
      "bottom": null,
      "display": null,
      "flex": null,
      "flex_flow": null,
      "grid_area": null,
      "grid_auto_columns": null,
      "grid_auto_flow": null,
      "grid_auto_rows": null,
      "grid_column": null,
      "grid_gap": null,
      "grid_row": null,
      "grid_template_areas": null,
      "grid_template_columns": null,
      "grid_template_rows": null,
      "height": null,
      "justify_content": null,
      "justify_items": null,
      "left": null,
      "margin": null,
      "max_height": null,
      "max_width": null,
      "min_height": null,
      "min_width": null,
      "object_fit": null,
      "object_position": null,
      "order": null,
      "overflow": null,
      "overflow_x": null,
      "overflow_y": null,
      "padding": null,
      "right": null,
      "top": null,
      "visibility": null,
      "width": null
     }
    },
    "ffecc554a78546cebfcdd0866270a124": {
     "model_module": "@jupyter-widgets/controls",
     "model_module_version": "1.5.0",
     "model_name": "HTMLModel",
     "state": {
      "_dom_classes": [],
      "_model_module": "@jupyter-widgets/controls",
      "_model_module_version": "1.5.0",
      "_model_name": "HTMLModel",
      "_view_count": null,
      "_view_module": "@jupyter-widgets/controls",
      "_view_module_version": "1.5.0",
      "_view_name": "HTMLView",
      "description": "",
      "description_tooltip": null,
      "layout": "IPY_MODEL_a29d8b477d8f4089bd1a0da3500a3cd8",
      "placeholder": "​",
      "style": "IPY_MODEL_593aa1d560af4feaa679b37994ebc9b9",
      "value": "100%"
     }
    }
   }
  }
 },
 "nbformat": 4,
 "nbformat_minor": 5
}
